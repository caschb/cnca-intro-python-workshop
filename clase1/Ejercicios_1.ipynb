{
  "nbformat": 4,
  "nbformat_minor": 0,
  "metadata": {
    "colab": {
      "provenance": [],
      "authorship_tag": "ABX9TyOTGUnKyvSJUGFzsQM1vkgH",
      "include_colab_link": true
    },
    "kernelspec": {
      "name": "python3",
      "display_name": "Python 3"
    },
    "language_info": {
      "name": "python"
    }
  },
  "cells": [
    {
      "cell_type": "markdown",
      "metadata": {
        "id": "view-in-github",
        "colab_type": "text"
      },
      "source": [
        "<a href=\"https://colab.research.google.com/github/caschb/cnca-intro-python-workshop/blob/main/clase1/Ejercicios_1.ipynb\" target=\"_parent\"><img src=\"https://colab.research.google.com/assets/colab-badge.svg\" alt=\"Open In Colab\"/></a>"
      ]
    },
    {
      "cell_type": "markdown",
      "source": [
        "# Sumatoria\n",
        "\n",
        "Escriba un programa que lea un número entero positivo n del usuario e imprime la suma de\n",
        "todos los números entre el 1 y n. La suma de los primeros n números enteros positivos está\n",
        "dada por la siguiente fórmula:\n",
        "$$Suma =\n",
        "\\sum_{i=1}^{n} i=\\frac{n(n + 1)}{2}$$"
      ],
      "metadata": {
        "id": "80zCz1lzc5zo"
      }
    },
    {
      "cell_type": "code",
      "execution_count": null,
      "metadata": {
        "id": "gIyut7nCTQYr"
      },
      "outputs": [],
      "source": []
    },
    {
      "cell_type": "markdown",
      "source": [
        "# Fahrenheit a Celcius\n",
        "\n",
        "Escriba un programa que lea una temperatura en grados Fahrenheit y la convierte a grados Celcius\n",
        "\n",
        "$$(X°F - 32) * \\frac{5}{9} = Y°C$$"
      ],
      "metadata": {
        "id": "_cx5nw32m8Nd"
      }
    },
    {
      "cell_type": "code",
      "source": [],
      "metadata": {
        "id": "AN8Y_DRefSZg"
      },
      "execution_count": null,
      "outputs": []
    },
    {
      "cell_type": "markdown",
      "source": [
        "# De segundos a días, horas, minutos y segundos\n",
        "\n",
        "Escriba un programa que reciba una cantidad de segundos y devuelva la cantidad de días,\n",
        "horas, minutos y segundos que representa."
      ],
      "metadata": {
        "id": "NUgedfwnfXJw"
      }
    },
    {
      "cell_type": "code",
      "source": [],
      "metadata": {
        "id": "EQC1EOVyg5Vp"
      },
      "execution_count": null,
      "outputs": []
    },
    {
      "cell_type": "markdown",
      "source": [
        "# De días, horas, minutos y segundos a segundos\n",
        "\n",
        "Escriba un programa que lea una cantidad de días, horas, minutos y segundos y que\n",
        "imprima la cantidad total de segundos de esta duración.\n"
      ],
      "metadata": {
        "id": "DRMFTtXVc4x-"
      }
    },
    {
      "cell_type": "code",
      "source": [],
      "metadata": {
        "id": "MCK2iJz8nwXk"
      },
      "execution_count": null,
      "outputs": []
    },
    {
      "cell_type": "markdown",
      "source": [
        "# Suma de dígitos\n",
        "\n",
        "Escriba un programa que reciba un número de cuatro dígitos y muestra la suma de sus\n",
        "dígitos. Por ejemplo, si se ingresa el número 1337 entonces el programa debería de\n",
        "imprimir la suma de 1 + 3 + 3 + 7 que sería 14."
      ],
      "metadata": {
        "id": "S8JWe5LDg25N"
      }
    },
    {
      "cell_type": "code",
      "source": [],
      "metadata": {
        "id": "6TVL6v1Hn2gi"
      },
      "execution_count": null,
      "outputs": []
    }
  ]
}