{
  "nbformat": 4,
  "nbformat_minor": 0,
  "metadata": {
    "colab": {
      "provenance": [],
      "authorship_tag": "ABX9TyNmm7upseTR5Alj86vDNdCT",
      "include_colab_link": true
    },
    "kernelspec": {
      "name": "python3",
      "display_name": "Python 3"
    },
    "language_info": {
      "name": "python"
    }
  },
  "cells": [
    {
      "cell_type": "markdown",
      "metadata": {
        "id": "view-in-github",
        "colab_type": "text"
      },
      "source": [
        "<a href=\"https://colab.research.google.com/github/caschb/cnca-intro-python-workshop/blob/main/clase1/Soluciones_a_Ejercicios_1.ipynb\" target=\"_parent\"><img src=\"https://colab.research.google.com/assets/colab-badge.svg\" alt=\"Open In Colab\"/></a>"
      ]
    },
    {
      "cell_type": "markdown",
      "source": [
        "# Sumatoria\n",
        "\n",
        "Escriba un programa que lea un número entero positivo n del usuario e imprime la suma de\n",
        "todos los números entre el 1 y n. La suma de los primeros n números enteros positivos está\n",
        "dada por la siguiente fórmula:\n",
        "$$Suma =\n",
        "\\sum_{i=1}^{n} i=\\frac{n(n + 1)}{2}$$"
      ],
      "metadata": {
        "id": "80zCz1lzc5zo"
      }
    },
    {
      "cell_type": "code",
      "execution_count": null,
      "metadata": {
        "id": "gIyut7nCTQYr"
      },
      "outputs": [],
      "source": [
        "n = int(input(\"Ingrese un número entero positivo: \"))\n",
        "suma = n * (n + 1) // 2\n",
        "print(f\"La suma de los primeros {n} números enteros positivos es: {suma}\")"
      ]
    },
    {
      "cell_type": "markdown",
      "source": [
        "# Fahrenheit a Celcius\n",
        "\n",
        "Escriba un programa que lea una temperatura en grados Fahrenheit y la convierte a grados Celcius\n",
        "\n",
        "$$(X°F - 32) * \\frac{5}{9} = Y°C$$"
      ],
      "metadata": {
        "id": "_cx5nw32m8Nd"
      }
    },
    {
      "cell_type": "code",
      "source": [
        "f = float(input(\"Ingrese la temperatura en grados Fahrenheit: \"))\n",
        "c = (f - 32) * 5/9\n",
        "print(\"La temperatura en grados Celcius es:\", c)"
      ],
      "metadata": {
        "id": "AN8Y_DRefSZg"
      },
      "execution_count": null,
      "outputs": []
    },
    {
      "cell_type": "markdown",
      "source": [
        "# De segundos a días, horas, minutos y segundos\n",
        "\n",
        "Escriba un programa que reciba una cantidad de segundos y devuelva la cantidad de días,\n",
        "horas, minutos y segundos que representa."
      ],
      "metadata": {
        "id": "NUgedfwnfXJw"
      }
    },
    {
      "cell_type": "code",
      "source": [
        "segundos = int(input(\"Ingrese la cantidad de segundos: \"))\n",
        "segundos_por_dia = 24 * 3600\n",
        "segundos_por_hora = 3600\n",
        "segundos_por_minuto = 60\n",
        "\n",
        "dias = segundos // segundos_por_dia\n",
        "segundos %= segundos_por_dia\n",
        "horas = segundos // segundos_por_hora\n",
        "segundos %= segundos_por_hora\n",
        "minutos = segundos // segundos_por_minuto\n",
        "segundos %= segundos_por_minuto\n",
        "print(\"La cantidad de días, horas, minutos y segundos es:\")\n",
        "print(f\"{dias} días, {horas} horas, {minutos} minutos, {segundos} segundos\")\n"
      ],
      "metadata": {
        "id": "EQC1EOVyg5Vp"
      },
      "execution_count": null,
      "outputs": []
    },
    {
      "cell_type": "markdown",
      "source": [
        "# De días, horas, minutos y segundos a segundos\n",
        "\n",
        "Escriba un programa que lea una cantidad de días, horas, minutos y segundos y que\n",
        "imprima la cantidad total de segundos de esta duración.\n"
      ],
      "metadata": {
        "id": "DRMFTtXVc4x-"
      }
    },
    {
      "cell_type": "code",
      "source": [
        "dia = int(input(\"Ingrese la cantidad de días: \"))\n",
        "hora = int(input(\"Ingrese la cantidad de horas: \"))\n",
        "minuto = int(input(\"Ingrese la cantidad de minutos: \"))\n",
        "segundo = int(input(\"Ingrese la cantidad de segundos: \"))\n",
        "\n",
        "segundos = dia * 24 * 3600 + hora * 3600 + minuto * 60 + segundo\n",
        "print(f\"La cantidad total de segundos es: {segundos}\")"
      ],
      "metadata": {
        "id": "MCK2iJz8nwXk"
      },
      "execution_count": null,
      "outputs": []
    },
    {
      "cell_type": "markdown",
      "source": [
        "# Suma de dígitos\n",
        "\n",
        "Escriba un programa que reciba un número de cuatro dígitos y muestra la suma de sus\n",
        "dígitos. Por ejemplo, si se ingresa el número 1337 entonces el programa debería de\n",
        "imprimir la suma de 1 + 3 + 3 + 7 que sería 14."
      ],
      "metadata": {
        "id": "S8JWe5LDg25N"
      }
    },
    {
      "cell_type": "code",
      "source": [
        "numero = input(\"Ingrese un número de cuatro dígitos: \")\n",
        "suma = int(numero[0] + numero[1] + numero[2] + numero[3])\n",
        "\n",
        "print(f\"La suma de los dígitos es:, {suma}\")"
      ],
      "metadata": {
        "id": "6TVL6v1Hn2gi"
      },
      "execution_count": null,
      "outputs": []
    }
  ]
}