{
  "cells": [
    {
      "cell_type": "markdown",
      "metadata": {
        "id": "VPCa8Rn6Vdv-"
      },
      "source": [
        "# Variables\n",
        "\n",
        "Son lugares en la memoria de la computadora a los que le damos un nombre y en dónde podemos guardar valores y referencias a valores.\n",
        "\n",
        "Existen varios tipos.\n",
        "\n",
        "En esta clase vamos a trabajar con los tipos más básicos.\n",
        "\n",
        "## Definición de variables\n",
        "\n",
        "Para definir una variable en python ponemos el nombre de la variable en la izquierda, un símbolo de igual y el valor de la variable en la derecha.\n",
        "\n",
        "```Python\n",
        "nombre_de_la_variable = <valor>\n",
        "```\n",
        "Por ejemplo:\n",
        "\n",
        "```Python\n",
        "radio = 10\n",
        "```\n",
        "\n",
        "Existen restricciones para los nombres de las variables:\n",
        "\n",
        "1. No pueden empezar con un número\n",
        "1. Sólo pueden tener números, letras o guiones bajos\n",
        "1. No pueden ser una de las [palabras claves](https://docs.python.org/es/3/reference/lexical_analysis.html#keywords) de Python.\n",
        "\n",
        "Adicionalmente, existe una guía de estilo llamada [PEP8](https://peps.python.org/pep-0008/#function-and-variable-names), que se utiliza como estándar de programación de Python donde se describe el estilo oficial del código de Python.\n",
        "Entre las reglas para los nombres de variables tenemos:\n",
        "\n",
        "1. Los nombres deben de empezar con minúscula.\n",
        "1. Las palabras deben de estar separadas por guion bajo.\n",
        "\n",
        "Toda variable tiene un tipo asociado que define el conjunto de operaciones que se le pueden aplicar, en Python, la declaración de este tipo es implícita y se deriva del valor que se le asigna a la variable.\n",
        "\n",
        "## Variables numéricas\n",
        "\n",
        "\n",
        "Se dividen en números enteros (llamados ```int```), números \"flotantes\" (llamados ```float```) y números complejos (```complex```).\n",
        "\n",
        "Nos concentraremos en los ```int``` y en los ```float```.\n"
      ]
    },
    {
      "cell_type": "code",
      "execution_count": null,
      "metadata": {
        "id": "11g6ksd_VdwD"
      },
      "outputs": [],
      "source": [
        "numero_entero = 10\n",
        "type(numero_entero)"
      ]
    },
    {
      "cell_type": "code",
      "execution_count": null,
      "metadata": {
        "id": "AqlLuIVdVdwG"
      },
      "outputs": [],
      "source": [
        "numero_flotante = 10.0\n",
        "type(numero_flotante)"
      ]
    },
    {
      "cell_type": "markdown",
      "metadata": {
        "id": "M5epTBY8VdwH"
      },
      "source": [
        "A pesar de que ambos tipos de dato se utilizan para representar números existen múltiples diferencias entre ellos:\n",
        "\n",
        "1. Los `int` son una representación exacta, mientras que los números `float` son sólo una aproximación.\n",
        "1. Los `int` en Python pueden ser tan grandes como sea necesario, los números `float` tinen un máximo y un mínimo.\n",
        "1. No es posible representar números con decimales utilizando los `int`, mientras que con los `float` sí es posible.\n",
        "\n",
        "Python utiliza `float`s de 64 bits"
      ]
    },
    {
      "cell_type": "markdown",
      "metadata": {
        "id": "pVTWuX3ZVdwH"
      },
      "source": [
        "### Operaciones"
      ]
    },
    {
      "cell_type": "code",
      "execution_count": null,
      "metadata": {
        "id": "aIPUXMD4VdwK"
      },
      "outputs": [],
      "source": [
        "primer_número = 50\n",
        "segundo_número = 3.0"
      ]
    },
    {
      "cell_type": "code",
      "execution_count": null,
      "metadata": {
        "id": "gFlHnEFuVdwK"
      },
      "outputs": [],
      "source": [
        "resultado = primer_número + segundo_número\n",
        "print(\"Suma:\", resultado)\n",
        "\n",
        "resultado = primer_número - segundo_número\n",
        "print(\"Resta:\", resultado)\n",
        "\n",
        "resultado = primer_número * segundo_número\n",
        "print(\"Multiplicación:\", resultado)\n",
        "\n",
        "resultado = primer_número / segundo_número\n",
        "print(\"División:\", resultado) # Da como resultado un valor float\n",
        "\n",
        "resultado = primer_número // segundo_número\n",
        "print(\"Cociente:\", resultado)\n",
        "\n",
        "resultado = primer_número % segundo_número\n",
        "print(\"Residuo:\", resultado)\n",
        "\n",
        "resultado = -primer_número\n",
        "print(\"Negación:\", resultado)\n",
        "\n",
        "resultado = abs(primer_número)\n",
        "print(\"Valor absoluto:\", resultado)\n",
        "\n",
        "resultado = primer_número ** 2\n",
        "print(\"Potencia:\", resultado)"
      ]
    },
    {
      "cell_type": "markdown",
      "metadata": {
        "id": "j_Rg3zlCVdwK"
      },
      "source": [
        "Se pueden hacer conversiones entre los tipos"
      ]
    },
    {
      "cell_type": "code",
      "execution_count": null,
      "metadata": {
        "id": "3QR6Lf0PVdwL"
      },
      "outputs": [],
      "source": [
        "valor = 1.4\n",
        "print(valor, type(valor))\n",
        "valor = int(valor)\n",
        "print(valor, type(valor))"
      ]
    },
    {
      "cell_type": "code",
      "execution_count": null,
      "metadata": {
        "id": "Tk7CcGGmVdwL"
      },
      "outputs": [],
      "source": [
        "valor = 1\n",
        "print(valor, type(valor))\n",
        "valor = float(valor)\n",
        "print(valor, type(valor))"
      ]
    },
    {
      "cell_type": "markdown",
      "metadata": {
        "id": "ctYOhsUPVdwL"
      },
      "source": [
        "También se puede encontrar el máximo y el mínimo de algún grupo de números"
      ]
    },
    {
      "cell_type": "code",
      "execution_count": null,
      "metadata": {
        "id": "vGlQpYkUVdwL"
      },
      "outputs": [],
      "source": [
        "resultado = max(primer_número, segundo_número, 10, 40, 50, 99, 1000)\n",
        "print(\"Máximo:\", resultado)\n",
        "resultado = min(primer_número, segundo_número)\n",
        "print(\"Mínimo:\", resultado)"
      ]
    },
    {
      "cell_type": "markdown",
      "metadata": {
        "id": "5iNO8K-3VdwM"
      },
      "source": [
        "## Valores booleanos\n",
        "\n",
        "Estos valores representan los valores lógicos de verdadero o falso.  \n",
        "Nos sirven para hacer comparaciones y probar si alguna expresión es verdadera o falsa.  \n",
        "Sólo pueden tener uno de dos valores, o `True` o `False`"
      ]
    },
    {
      "cell_type": "code",
      "execution_count": null,
      "metadata": {
        "id": "Pi8W2AaEVdwM"
      },
      "outputs": [],
      "source": [
        "primer_condicion = False\n",
        "segunda_condicion = True"
      ]
    },
    {
      "cell_type": "markdown",
      "source": [
        "- Mi perro es blanco\n",
        "- Mi gato es negro\n",
        "\n",
        "\n",
        "Mi perro es blanco y mi gato es negro == Verdadera  \n",
        "Mi perro no es blanco y mi gato es negro == Falsa  \n",
        "\n",
        "Mi perro es blanco o mi gato es negro == Verdadera  \n",
        "Mi perro no es blanco o mi gato es negro == Verdadera  "
      ],
      "metadata": {
        "id": "DiIHU8lRYwg4"
      }
    },
    {
      "cell_type": "code",
      "source": [
        "mi_perro_es_blanco = True\n",
        "mi_gato_es_negro = True\n",
        "\n",
        "print(mi_perro_es_blanco and mi_gato_es_negro)\n",
        "print((not mi_perro_es_blanco) and mi_gato_es_negro)"
      ],
      "metadata": {
        "id": "jx1eaWI9YwQf"
      },
      "execution_count": null,
      "outputs": []
    },
    {
      "cell_type": "code",
      "source": [],
      "metadata": {
        "id": "W7EyN1N0YuAV"
      },
      "execution_count": null,
      "outputs": []
    },
    {
      "cell_type": "markdown",
      "metadata": {
        "id": "a4WgxAHRVdwM"
      },
      "source": [
        "### Operaciones"
      ]
    },
    {
      "cell_type": "code",
      "execution_count": null,
      "metadata": {
        "id": "H3kHvp1GVdwM"
      },
      "outputs": [],
      "source": [
        "resultado = primer_condicion or segunda_condicion\n",
        "print(\"Or\", resultado)\n",
        "\n",
        "resultado = primer_condicion and segunda_condicion\n",
        "print(\"And\", resultado)\n",
        "\n",
        "resultado = not primer_condicion\n",
        "print(\"Not\", resultado)"
      ]
    },
    {
      "cell_type": "markdown",
      "metadata": {
        "id": "GsLiezu1VdwM"
      },
      "source": [
        "## Comparaciones\n",
        "\n",
        "Podemos hacer comparaciones entre números.  \n",
        "El resultado de estas comparaciones será un valor booleano."
      ]
    },
    {
      "cell_type": "code",
      "source": [
        "primer_número = 10\n",
        "segundo_número = 20\n",
        "tercer_número = 30"
      ],
      "metadata": {
        "id": "JoijJm2EZ895"
      },
      "execution_count": null,
      "outputs": []
    },
    {
      "cell_type": "code",
      "execution_count": null,
      "metadata": {
        "id": "xzRiuKO2VdwM"
      },
      "outputs": [],
      "source": [
        "resultado = primer_número > segundo_número\n",
        "print(\"Mayor que:\", resultado, type(resultado))\n",
        "\n",
        "resultado = primer_número >= segundo_número\n",
        "print(\"Mayor o igual a que:\", resultado)\n",
        "\n",
        "resultado = primer_número < segundo_número\n",
        "print(\"Menor que:\", resultado)\n",
        "\n",
        "resultado = primer_número <= segundo_número\n",
        "print(\"Menor o igual a que:\", resultado)\n",
        "\n",
        "resultado = primer_número == segundo_número\n",
        "print(\"Igual que:\", resultado)\n",
        "\n",
        "resultado = primer_número != segundo_número\n",
        "print(\"Distinto que:\", resultado)"
      ]
    },
    {
      "cell_type": "code",
      "source": [
        "primer_número > segundo_número or tercer_número == segundo_número"
      ],
      "metadata": {
        "id": "keOt4VEBaMfK"
      },
      "execution_count": null,
      "outputs": []
    },
    {
      "cell_type": "markdown",
      "metadata": {
        "id": "uFi3kaE-VdwM"
      },
      "source": [
        "## Hileras de caracteres\n",
        "\n",
        "Las hileras de caracteres o strings se utilizan para representar texto en los programas.  \n",
        "Estas pueden contener cualquier tipo de caracter, incluyendo cosas como tildes o emoji.  \n"
      ]
    },
    {
      "cell_type": "code",
      "execution_count": null,
      "metadata": {
        "id": "JyMIiEFWVdwM"
      },
      "outputs": [],
      "source": [
        "palabra = \"Íñigo Montoya 🤺\"\n",
        "chino = \"你好\"\n",
        "japonés = \"こんにちは\"\n",
        "koreano = \"안녕\"\n",
        "ruso = \"привет\"\n",
        "print(palabra, type(palabra))\n",
        "print(chino)\n",
        "print(japonés)\n",
        "print(koreano)\n",
        "print(ruso)"
      ]
    },
    {
      "cell_type": "markdown",
      "metadata": {
        "id": "xoNZbVasVdwN"
      },
      "source": [
        "### Longitud de una hilera"
      ]
    },
    {
      "cell_type": "code",
      "execution_count": null,
      "metadata": {
        "id": "yAOFtUpiVdwN"
      },
      "outputs": [],
      "source": [
        "hilera_de_ejemplo = \"Hola mundo.\"\n",
        "longitud = len(hilera_de_ejemplo)\n",
        "print(longitud)"
      ]
    },
    {
      "cell_type": "markdown",
      "metadata": {
        "id": "VMUPqDWKVdwN"
      },
      "source": [
        "### Concatenación de varias hileras"
      ]
    },
    {
      "cell_type": "code",
      "execution_count": null,
      "metadata": {
        "id": "wWKn17H_VdwN"
      },
      "outputs": [],
      "source": [
        "primer_palabra = \"Hola \"\n",
        "segunda_palabra = \"Mundo\"\n",
        "\n",
        "resultado = primer_palabra + segunda_palabra\n",
        "print(resultado)"
      ]
    },
    {
      "cell_type": "markdown",
      "metadata": {
        "id": "ZTcOgm6CVdwN"
      },
      "source": [
        "### Repetición de un string"
      ]
    },
    {
      "cell_type": "code",
      "execution_count": null,
      "metadata": {
        "id": "JBeG2BjfVdwN"
      },
      "outputs": [],
      "source": [
        "palabra = \"Python\"\n",
        "print(palabra * 3)"
      ]
    },
    {
      "cell_type": "markdown",
      "metadata": {
        "id": "TBuM1aqWVdwN"
      },
      "source": [
        "### Interpolación de hileras"
      ]
    },
    {
      "cell_type": "code",
      "execution_count": null,
      "metadata": {
        "id": "Jfr6T6kOVdwN"
      },
      "outputs": [],
      "source": [
        "largo = 10\n",
        "ancho = 30\n",
        "área = largo * ancho\n",
        "unidades = \"km\"\n",
        "mensaje = f\"El área del rectángulo con dimensiones {largo} {unidades} x{ancho} {unidades} es igual a: {área} {unidades}2\"\n",
        "# mensaje = f\"\\{largo}\" Me queda pendiente\n",
        "print(mensaje)"
      ]
    },
    {
      "cell_type": "markdown",
      "metadata": {
        "id": "kTvB4suIVdwO"
      },
      "source": [
        "### Indexación de una hilera"
      ]
    },
    {
      "cell_type": "code",
      "execution_count": null,
      "metadata": {
        "id": "amsqHnAaVdwO"
      },
      "outputs": [],
      "source": [
        "mi_hilera = \"abc...xyz\"\n",
        "\n",
        "print(mi_hilera[0])\n",
        "print(mi_hilera[2])\n",
        "print(mi_hilera[-1]) # el ultimo caracter\n",
        "print(mi_hilera[-2])\n",
        "\n",
        "longitud = len(mi_hilera)\n",
        "print(f\"Longitud de {mi_hilera}: {longitud}\")\n",
        "# print(mi_hilera[9]) # Error!\n",
        "# print(mi_hilera[-10]) # Error!"
      ]
    },
    {
      "cell_type": "markdown",
      "metadata": {
        "id": "PARbje37VdwO"
      },
      "source": [
        "### Slicing\n",
        "```Python\n",
        "nombre_variable[<primer índice>:<último índice>:<salto>]\n",
        "```\n",
        "El último índice es exclusivo, entonces si un slice va del `0` al `3` entonces contendrá los elementos `0`, `1` y `2`.\n",
        "\n",
        "Por default, el primer índice es el `0`, el último índice es el tamaño de la hilera y el salto es `1`"
      ]
    },
    {
      "cell_type": "code",
      "execution_count": null,
      "metadata": {
        "id": "LBDdExqPVdwO"
      },
      "outputs": [],
      "source": [
        "otra_hilera = \"Hola, mundo!\"\n",
        "print(otra_hilera[0:4])\n",
        "print(otra_hilera[:4])"
      ]
    },
    {
      "cell_type": "markdown",
      "metadata": {
        "id": "mfRsuk5cVdwO"
      },
      "source": [
        "### Otras operaciones con strings"
      ]
    },
    {
      "cell_type": "code",
      "execution_count": null,
      "metadata": {
        "id": "Npw1xBQHVdwO"
      },
      "outputs": [],
      "source": [
        "frase_ejemplo = \"Tres tristes tigres tragaban trigo en un trigal\"\n",
        "print(frase_ejemplo.lower())\n",
        "print(frase_ejemplo.upper())\n",
        "print(frase_ejemplo.title())\n",
        "\n",
        "frase_ejemplo = \"   Hola   \"\n",
        "print(frase_ejemplo)\n",
        "print(frase_ejemplo.strip())\n",
        "\n",
        "frase_ejemplo = \"...Adios...\"\n",
        "print(frase_ejemplo.strip(\".\"))\n",
        "\n",
        "frase_ejemplo = \"nombre,apellido,edad\"\n",
        "print(frase_ejemplo.split(\",\"))\n",
        "print(frase_ejemplo.replace(\",\", \";\"))\n"
      ]
    },
    {
      "cell_type": "code",
      "source": [
        "frase_ejemplo = \"   Hola   \"\n",
        "print(frase_ejemplo)\n",
        "otra_frase = frase_ejemplo.strip()\n",
        "print(frase_ejemplo)\n",
        "print(otra_frase)"
      ],
      "metadata": {
        "id": "LGaaOutsjWS2"
      },
      "execution_count": null,
      "outputs": []
    },
    {
      "cell_type": "code",
      "execution_count": null,
      "metadata": {
        "id": "3WSzadlDVdwO"
      },
      "outputs": [],
      "source": [
        "primera_frase = \"HOLA\"\n",
        "segunda_frase = primera_frase.lower()\n",
        "\n",
        "print(primera_frase)\n",
        "print(segunda_frase)"
      ]
    },
    {
      "cell_type": "markdown",
      "metadata": {
        "id": "pYjNVd33VdwO"
      },
      "source": [
        "## Conversión de Strings a otros tipos y viceversa"
      ]
    },
    {
      "cell_type": "code",
      "execution_count": null,
      "metadata": {
        "id": "YHv09rqvVdwO"
      },
      "outputs": [],
      "source": [
        "numero_entero = 10\n",
        "\n",
        "print(numero_entero, type(numero_entero))\n",
        "frase = \"El número es: \"\n",
        "# print(frase + numero_entero) # Error!\n"
      ]
    },
    {
      "cell_type": "code",
      "execution_count": null,
      "metadata": {
        "id": "9jUmFoW_VdwP"
      },
      "outputs": [],
      "source": [
        "numero_entero = str(numero_entero)\n",
        "print(numero_entero, type(numero_entero))\n",
        "\n",
        "print(frase + numero_entero)"
      ]
    },
    {
      "cell_type": "code",
      "source": [
        "primer_numero = \"10\"\n",
        "segundo_numero = \"30\"\n",
        "\n",
        "resultado = primer_numero + segundo_numero\n",
        "print(resultado)"
      ],
      "metadata": {
        "id": "T2ao5ILekhZ2"
      },
      "execution_count": null,
      "outputs": []
    },
    {
      "cell_type": "code",
      "execution_count": null,
      "metadata": {
        "id": "65GDTiwJVdwP"
      },
      "outputs": [],
      "source": [
        "dato = \"24\"\n",
        "print(dato, type(dato))\n",
        "\n",
        "denominador = 2\n",
        "\n",
        "# resultado = dato / denominador # Error!\n",
        "# print(resultado)"
      ]
    },
    {
      "cell_type": "code",
      "execution_count": null,
      "metadata": {
        "id": "uKmnLUIIVdwR"
      },
      "outputs": [],
      "source": [
        "dato = int(dato)\n",
        "print(dato, type(dato))\n",
        "\n",
        "resultado = dato / denominador\n",
        "print(resultado)"
      ]
    },
    {
      "cell_type": "code",
      "execution_count": null,
      "metadata": {
        "id": "6KM_eSxSVdwR"
      },
      "outputs": [],
      "source": [
        "dato = \"24.41\"\n",
        "print(dato, type(dato))\n",
        "\n",
        "dato = float(dato)\n",
        "print(dato, type(dato))\n",
        "\n",
        "resultado = dato / denominador\n",
        "print(resultado)"
      ]
    },
    {
      "cell_type": "code",
      "source": [
        "dato = \"24.41\"\n",
        "dato = float(dato)\n"
      ],
      "metadata": {
        "id": "C7GbckZKlFXV"
      },
      "execution_count": null,
      "outputs": []
    },
    {
      "cell_type": "markdown",
      "metadata": {
        "id": "uHPD6CsKVdwS"
      },
      "source": [
        "### Lectura de datos del teclado\n",
        "Para leer un dato del teclado utilizamos la función `input`.\n",
        "\n",
        "Esta función siempre devolverá un string, por lo que si se desea hacer operaciones matemáticas con los datos leídos es necesario realizar las conversiones pertinentes."
      ]
    },
    {
      "cell_type": "code",
      "execution_count": null,
      "metadata": {
        "id": "NiXZFM4aVdwS"
      },
      "outputs": [],
      "source": [
        "largo = input(\"Introduzca el largo del rectángulo: \")\n",
        "ancho = input(\"Introduzca el ancho del rectángulo: \")\n",
        "\n",
        "largo = int(largo)\n",
        "ancho = int(ancho)\n",
        "\n",
        "perímetro = (2 * largo) + (2 * ancho)\n",
        "print(f\"El perímetro del rectángulo es: {perímetro}\")"
      ]
    },
    {
      "cell_type": "code",
      "source": [
        "largo = int(input(\"Introduzca el largo del rectángulo: \"))\n",
        "print(type(largo))"
      ],
      "metadata": {
        "id": "wBLnXYL-lfQr"
      },
      "execution_count": null,
      "outputs": []
    }
  ],
  "metadata": {
    "kernelspec": {
      "display_name": "taller",
      "language": "python",
      "name": "python3"
    },
    "language_info": {
      "codemirror_mode": {
        "name": "ipython",
        "version": 3
      },
      "file_extension": ".py",
      "mimetype": "text/x-python",
      "name": "python",
      "nbconvert_exporter": "python",
      "pygments_lexer": "ipython3",
      "version": "3.11.3"
    },
    "orig_nbformat": 4,
    "colab": {
      "provenance": []
    }
  },
  "nbformat": 4,
  "nbformat_minor": 0
}