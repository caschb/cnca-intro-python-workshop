{
  "cells": [
    {
      "cell_type": "markdown",
      "metadata": {
        "id": "olpdRyUQ0iem"
      },
      "source": [
        "# Módulos\n",
        "\n",
        "Las bibliotecas en programación, como las bibliotecas de libros, son colecciones de conocimiento, en este caso de códigos destinados a hacer distintas funciones.\n",
        "\n",
        "La idea de las bibliotecas es que sean funcionales para muchas personas y que los usuarios no estén implementando las mismas soluciones una y otra vez.\n",
        "\n",
        "Existen en casi todos los lenguajes de programación, se les conoce también como módulos o paquetes.\n",
        "\n",
        "## Bibliotecas en Python\n",
        "\n",
        "Cuando instalamos Python, automáticamente también instalamos una serie de bibliotecas, estas bibliotecas desarrolladas por el mismo grupo que desarrolla el lenguaje se le denomina la Biblioteca estándar de Python.\n",
        "Algunos ejemplos de las bibliotecas más importantes de este conjunto son:\n",
        "\n",
        "- [`math`](https://docs.python.org/3/library/math.html)\n",
        "- [`random`](https://docs.python.org/3/library/random.html)\n",
        "- [`statistics`](https://docs.python.org/3/library/statistics.html)\n",
        "- [`pickle`](https://docs.python.org/3/library/pickle.html)\n",
        "- [`csv`](https://docs.python.org/3/library/csv.html)\n",
        "- [`os`](https://docs.python.org/3/library/os.html)\n",
        "- [`time`](https://docs.python.org/3/library/time.html)\n",
        "- [`sys`](https://docs.python.org/3/library/sys.html)\n",
        "- [`tkinter`](https://docs.python.org/3/library/tkinter.html)\n",
        "\n",
        "También existen múltiples bibliotecas externas que se pueden instalar que son desarrolladas por grupos de personas que trabajan en algún área particular (por ejemplo, astronomía, biología, etc).\n",
        "\n",
        "*Ejemplos:*\n",
        "\n",
        "- [`numpy`](https://numpy.org/)\n",
        "- [`pandas`](https://pandas.pydata.org/)\n",
        "- [`polars`](https://www.pola.rs/)\n",
        "- [`scipy`](https://scipy.org/)\n",
        "- [`scikit-learn`](https://scikit-learn.org/)\n",
        "- [`biopython`](https://biopython.org/)\n",
        "- [`matplotlib`](https://matplotlib.org/)\n",
        "- [`seaborn`](https://seaborn.pydata.org/)\n",
        "- [`plotly`](https://plotly.com/python/)\n",
        "\n",
        "\n",
        "Si queremos usar una biblioteca, lo primero es importarla.\n",
        "\n"
      ]
    },
    {
      "cell_type": "code",
      "execution_count": null,
      "metadata": {
        "id": "B9yYixvs3Oer"
      },
      "outputs": [],
      "source": [
        "import numpy #Usamos el keyword import y el nombre del paquete"
      ]
    },
    {
      "cell_type": "code",
      "execution_count": null,
      "metadata": {
        "id": "K-th900kcsI2"
      },
      "outputs": [],
      "source": [
        "import math\n",
        "print(math.sqrt(26))\n",
        "print(math.isqrt(26))"
      ]
    },
    {
      "cell_type": "code",
      "execution_count": null,
      "metadata": {
        "id": "-ndpzXJFWx-C"
      },
      "outputs": [],
      "source": [
        "import Bio"
      ]
    },
    {
      "cell_type": "code",
      "execution_count": null,
      "metadata": {
        "id": "ADciHxJZdhDX"
      },
      "outputs": [],
      "source": [
        "!pip install biopython"
      ]
    },
    {
      "cell_type": "code",
      "execution_count": null,
      "metadata": {
        "id": "4O5vhd9Mds4V"
      },
      "outputs": [],
      "source": [
        "from Bio.Seq import Seq\n",
        "my_seq = Seq(\"AGTACACTGGT\")\n",
        "my_seq\n",
        "print(my_seq)\n",
        "my_seq.complement()\n",
        "my_seq.reverse_complement()"
      ]
    },
    {
      "cell_type": "code",
      "execution_count": null,
      "metadata": {
        "id": "KekIP3zaXcGs"
      },
      "outputs": [],
      "source": [
        "adn = Seq('CAGACTAGCTTTTGCATTCTACGGTATGGCAGATGTGTTAATCTCGAGAGTGTTAAAAACTGATAGCAGC')\n",
        "print(adn)\n",
        "print(adn.count(\"A\"))\n",
        "print(adn.count(\"C\"))\n",
        "print(adn.count(\"G\"))\n",
        "print(adn.count(\"T\"))"
      ]
    },
    {
      "cell_type": "markdown",
      "metadata": {
        "id": "20OfTyLU5V4_"
      },
      "source": [
        "### Importar módulos específicos de una biblioteca\n",
        "\n",
        "La mayoría de las bibliotecas son de un tamaño razonable, por lo cual están organizadas en módulos más pequeños. Estos módulos están agrupados según su utilidad.\n",
        "\n",
        "Podemos importar un módulo en particular sin tener que cargar toda la colección."
      ]
    },
    {
      "cell_type": "code",
      "execution_count": null,
      "metadata": {
        "id": "X_hGr6FB41UI"
      },
      "outputs": [],
      "source": [
        "import matplotlib.pyplot #Importamos solo el módulo pyplot de matplotlib\n",
        "import numpy.random #Importamos solo el módulo random de NumPy"
      ]
    },
    {
      "cell_type": "markdown",
      "metadata": {
        "id": "BOQblKfl5gvv"
      },
      "source": [
        "Otra manera de cargar sub paquetes es con la palabra **from** en conjunto con import."
      ]
    },
    {
      "cell_type": "code",
      "execution_count": null,
      "metadata": {
        "id": "HOdNGEP96FUG"
      },
      "outputs": [],
      "source": [
        "from matplotlib import pyplot\n",
        "from numpy import random"
      ]
    },
    {
      "cell_type": "markdown",
      "metadata": {
        "id": "S_9RCfZ06OMt"
      },
      "source": [
        "### ¿Cómo utilizamos las bibliotecas?\n",
        "\n",
        "Para usar cualquier función programada en un módulo debemos llamarla por su nombre, igual que cualquier otra que hayamos aprendido a usar."
      ]
    },
    {
      "cell_type": "code",
      "execution_count": null,
      "metadata": {
        "id": "FHxsnWaePn1G"
      },
      "outputs": [],
      "source": [
        "from math import sqrt\n",
        "\n",
        "print(sqrt(25))"
      ]
    },
    {
      "cell_type": "markdown",
      "metadata": {
        "id": "wdNfWvCUP40l"
      },
      "source": [
        "Note que en el ejemplo anterior importamos directamente la función sqrt(), pero en caso de importar todo el módulo, la función debe llamarse con la sintaxis **módulo.función**."
      ]
    },
    {
      "cell_type": "code",
      "execution_count": null,
      "metadata": {
        "id": "z0D_jpiXQRAl"
      },
      "outputs": [],
      "source": [
        "import math\n",
        "\n",
        "print(math.sqrt(25)) #Tenemos que decir a Python que la función está dentro de math"
      ]
    },
    {
      "cell_type": "markdown",
      "metadata": {
        "id": "h0pnaSCZ5FW_"
      },
      "source": [
        "### Importar utilizando alias\n",
        "\n",
        "Cuando un paquete está compuesto de muchos sub paquetes es un poco tedioso escribir el nombre completo.\n",
        "\n",
        "**as** nos permite importar la biblioteca o el sub módulo poniéndole un alias con el cual podemos llamarlo a lo largo del código. Este alias puede ser cualquier cosa."
      ]
    },
    {
      "cell_type": "code",
      "execution_count": null,
      "metadata": {
        "id": "LhaslmJiR8Dr"
      },
      "outputs": [],
      "source": [
        "import math as m\n",
        "\n",
        "print(m.sqrt(25))"
      ]
    },
    {
      "cell_type": "markdown",
      "metadata": {
        "id": "h0ubpvH9SUMK"
      },
      "source": [
        " #### <font color='DarkBlue'>*Como con las variables, utilizar nombres significativos para los alias es una buena prática. De nada sirve usar un alias si es más largo que el nombre de la biblioteca o lo que intentamos importar.*</font>\n",
        "\n",
        "En las bibliotecas más populares también hay alias populares que se han escogido por convención. En los ejemplos hallados en internet casi siempre se utilizan estos alias."
      ]
    },
    {
      "cell_type": "code",
      "execution_count": null,
      "metadata": {
        "id": "OagyzfWZSzJS"
      },
      "outputs": [],
      "source": [
        "import pandas as pd\n",
        "import numpy as np\n",
        "import matplotlib.pyplot as plt"
      ]
    },
    {
      "cell_type": "markdown",
      "metadata": {
        "id": "mYvBHtjaTNSR"
      },
      "source": [
        "## Instalación de módulos\n",
        "\n",
        "Para instalar módulos podemos hacer uso de Anaconda Navigator.\n",
        "\n",
        "Otras opciones que se pueden explorar son:\n",
        "- [`conda`](https://docs.conda.io/en/latest/)\n",
        "- [`mamba`](https://mamba.readthedocs.io/en/latest/)\n",
        "- [`pip`](https://pip.pypa.io/en/stable/)"
      ]
    },
    {
      "cell_type": "code",
      "execution_count": null,
      "metadata": {
        "id": "WZGsDp7HGgOP"
      },
      "outputs": [],
      "source": [
        "# Si queremos instalar alguna biblioteca en colab utlizamos el siguiente comando\n",
        "\n",
        "! pip install <nombre de biblioteca>"
      ]
    },
    {
      "cell_type": "markdown",
      "metadata": {
        "id": "U5I2_Lxj0dD1"
      },
      "source": [
        "## Arreglos de NumPy\n",
        "\n",
        "NumPy (*Numerical Python*) es una de las bibliotecas más importantes en computación científica. Ofrece la posibilidad de almacenar datos en arreglos y ejecutar operaciones fundamentales en el análisis de datos.\n",
        "\n",
        "\n"
      ]
    },
    {
      "cell_type": "code",
      "execution_count": null,
      "metadata": {
        "id": "-VaBwgbuzT9L"
      },
      "outputs": [],
      "source": [
        "import numpy as np"
      ]
    },
    {
      "cell_type": "markdown",
      "metadata": {
        "id": "KVmT_GKnl93S"
      },
      "source": [
        "### Arreglos de NumPy\n",
        "\n",
        "Son estructuras pensadas para recrear matrices y vectores de datos. Algunas de sus características son:\n",
        "\n",
        "* No tienen longitud modificable.\n",
        "* Guardan el mismo tipo de dato.\n",
        "* Pueden ser n-dimensionales, podemos tener vectores, matrices, tensores, etc.\n",
        "* Almacenan la información de una forma más eficiente que sus similares las listas.\n",
        "* Se imprimen entre [], pero separados por espacio.\n",
        "\n",
        "### Funciones para crear arreglos\n",
        "\n",
        "| Función | Efecto |\n",
        "| :---: | :---: |\n",
        "| [`array`](https://numpy.org/doc/stable/reference/generated/numpy.array.html) | Crea un arreglo con los datos especificados|\n",
        "| [`arange`](https://numpy.org/doc/stable/reference/generated/numpy.arange.html) | Crea un arreglo de valores indicando un valor inicial, un final y un step|\n",
        "| [`linspace`](https://numpy.org/doc/stable/reference/generated/numpy.linspace.html) | Crea un espacio lineal en un arreglo|\n",
        "| [`empty`](https://numpy.org/doc/stable/reference/generated/numpy.empty.html) | Crea un arreglo con datos \"basura\"|\n",
        "| [`zeros`](https://numpy.org/doc/stable/reference/generated/numpy.zeros.html) | Crea un arreglo de ceros|\n",
        "|[`ones`](https://numpy.org/doc/stable/reference/generated/numpy.ones.html) | Crea un arreglo de unos|\n",
        "| [`full`](https://numpy.org/doc/stable/reference/generated/numpy.full.html) | Crea un arreglo lleno del valor especificado|\n",
        "\n",
        "`array` es el constructor principal de arreglos. Podemos utilizarlo para convertir tuplas o listas en arreglos de NumPy."
      ]
    },
    {
      "cell_type": "code",
      "execution_count": null,
      "metadata": {
        "id": "2RbQKD7Sf20o"
      },
      "outputs": [],
      "source": [
        "lista_original = [1, 2, 3]\n",
        "print(type(lista_original))\n",
        "arreglo_numpy = np.array(lista_original)\n",
        "print(type(arreglo_numpy))"
      ]
    },
    {
      "cell_type": "code",
      "execution_count": null,
      "metadata": {
        "id": "THG9y3jpgIwk"
      },
      "outputs": [],
      "source": [
        "numeros = np.arange(0, 100, 0.5)\n",
        "numeros"
      ]
    },
    {
      "cell_type": "code",
      "execution_count": null,
      "metadata": {
        "id": "Eqp8zmhlgWFe"
      },
      "outputs": [],
      "source": [
        "numeros = np.linspace(0, 100)\n",
        "numeros"
      ]
    },
    {
      "cell_type": "code",
      "execution_count": null,
      "metadata": {
        "colab": {
          "background_save": true
        },
        "id": "k3x1U1eBgp40"
      },
      "outputs": [],
      "source": [
        "np.empty(shape=(50))"
      ]
    },
    {
      "cell_type": "code",
      "execution_count": null,
      "metadata": {
        "id": "706-EmTMdtWt"
      },
      "outputs": [],
      "source": [
        "np.zeros(10)"
      ]
    },
    {
      "cell_type": "code",
      "execution_count": null,
      "metadata": {
        "id": "OZmsMoV4d_3F"
      },
      "outputs": [],
      "source": [
        "np.ones(10)\n"
      ]
    },
    {
      "cell_type": "code",
      "execution_count": null,
      "metadata": {
        "id": "ywjz8BSBeELN"
      },
      "outputs": [],
      "source": [
        "np.full(10, 3.)"
      ]
    },
    {
      "cell_type": "code",
      "execution_count": null,
      "metadata": {
        "id": "XfFDXCpQm9tL"
      },
      "outputs": [],
      "source": [
        "azulPython = (75, 139, 190)\n",
        "print(azulPython)"
      ]
    },
    {
      "cell_type": "code",
      "execution_count": null,
      "metadata": {
        "id": "ATPHko8Yn450"
      },
      "outputs": [],
      "source": [
        "print(np.array(azulPython)) #Convertimos la tupla en arreglo\n",
        "print(type(np.array(azulPython)))"
      ]
    },
    {
      "cell_type": "markdown",
      "metadata": {
        "id": "UbokzDUz2Brc"
      },
      "source": [
        "NumPy castea los elementos para que exista un solo tipo de dato, cuando sea posible. Nosotros mismos podríamos hacer la conversión tambien.\n",
        "\n",
        "[`astype`](https://numpy.org/doc/stable/reference/generated/numpy.ndarray.astype.html): Es una función que recibe como argumento un tipo de dato e intenta convertir los datos del arreglo a ese tipo."
      ]
    },
    {
      "cell_type": "code",
      "execution_count": null,
      "metadata": {
        "id": "M0SpZknYn-EE"
      },
      "outputs": [],
      "source": [
        "precios = np.array([1.33,1.35,0.93,1.08,1.28,'uno'])\n",
        "\n",
        "print(precios)"
      ]
    },
    {
      "cell_type": "code",
      "execution_count": null,
      "metadata": {
        "id": "tjI4Al5211rD"
      },
      "outputs": [],
      "source": [
        "precios = np.array([1.33,1.35,0.93,1.08,1.28,1])\n",
        "\n",
        "print(precios)"
      ]
    },
    {
      "cell_type": "code",
      "execution_count": null,
      "metadata": {
        "id": "AguhkbgCXNpk"
      },
      "outputs": [],
      "source": [
        "precios = np.array([1.33,1.35,0.93,1.08,1.28,1]).astype(int)\n",
        "\n",
        "print(precios)"
      ]
    },
    {
      "cell_type": "markdown",
      "metadata": {
        "id": "Q4O1fwCG3NHH"
      },
      "source": [
        "Para crear un arreglo de dos dimensiones como una matriz tenemos que usar listas de listas o tuplas de tuplas."
      ]
    },
    {
      "cell_type": "code",
      "execution_count": null,
      "metadata": {
        "id": "Fp_tPgh33Zlo"
      },
      "outputs": [],
      "source": [
        "coeficientes = np.array([[3,2,-1],[2,-2,4],(-1,0.5,-1)]) #Matriz 3x3\n",
        "\n",
        "print(coeficientes)"
      ]
    },
    {
      "cell_type": "markdown",
      "metadata": {
        "id": "_eA3FIOI4NnS"
      },
      "source": [
        "Note que los últimos elementos están en una tupla, por lo que podemos combinar. Además, cada lista o tupla interna representa una fila en la matriz."
      ]
    },
    {
      "cell_type": "markdown",
      "metadata": {
        "id": "DxPYy0174weI"
      },
      "source": [
        "### Sabiendo lo anterior, ¿cómo crearía un arreglo \"vertical\" 3x1? con los datos [1,2,3]?"
      ]
    },
    {
      "cell_type": "code",
      "execution_count": null,
      "metadata": {
        "id": "tZD3QRr7RSgC"
      },
      "outputs": [],
      "source": []
    },
    {
      "cell_type": "markdown",
      "metadata": {
        "id": "kryRQr04uLTk"
      },
      "source": [
        "A veces queremos crear arreglos que luego rellenaremos con valores. Como no podemos ir \"extendiendo\" el arreglo, lo que hacemos es crear uno del tamaño correcto que tenga datos temporales.\n",
        "\n",
        "Estos datos pueden ser valores sin significado o 0, depende del algoritmo. empty() y zeros() nos ayudan a crear arreglos con este fin."
      ]
    },
    {
      "cell_type": "code",
      "execution_count": null,
      "metadata": {
        "id": "m7iYiDSJunDS"
      },
      "outputs": [],
      "source": [
        "Mres_0 = np.zeros([5,5]) #Inicializamos una matriz resultado que calcularemos después\n",
        "\n",
        "print(Mres_0)"
      ]
    },
    {
      "cell_type": "code",
      "execution_count": null,
      "metadata": {
        "id": "Z3oQkmz_hv6O"
      },
      "outputs": [],
      "source": [
        "numeros_aleatorios = np.random.random(12)\n",
        "numeros_aleatorios.shape = (6,2)\n",
        "numeros_aleatorios"
      ]
    },
    {
      "cell_type": "code",
      "execution_count": null,
      "metadata": {
        "id": "2QWuqLMXzRJm"
      },
      "outputs": [],
      "source": [
        "Mres_emp = np.empty([4,4])\n",
        "\n",
        "print(Mres_emp)"
      ]
    },
    {
      "cell_type": "markdown",
      "metadata": {
        "id": "6vn9Id_G2Dl4"
      },
      "source": [
        "Note que a diferencia de `array` no enviamos los datos de la matriz sino las dimensiones.\n",
        "\n",
        " #### Cuando creamos un elemento como un arreglo, un string, un entero, etc., estos ocupan espacio en memoria. Si el elemento creado tiene un valor ya asignado entonces está inicializado.\n",
        "\n",
        "* Con `zeros` asignamos cero a todos los espacios que ocupa el arreglo en memoria, entonces **el arreglo queda inicializado**.\n",
        "\n",
        "* Con `empty` no se asignan valores, los que devuelve en realidad son datos que ya estaban asignados en los espacios de memoria y que no sabemos qué son. Como no se asigna ningún valor, **el arreglo no queda inicializado**.\n",
        "\n",
        "El proceso de inicializar cuesta un poco de tiempo, por ello `empty` puede ser más rápido que `zeros`.\n",
        "\n"
      ]
    },
    {
      "cell_type": "code",
      "execution_count": null,
      "metadata": {
        "id": "VaXC6CNxu1ue"
      },
      "outputs": [],
      "source": [
        "Mini_1 = np.ones([5,5]) #Inicializamos la matriz con unos\n",
        "\n",
        "print(Mini_1)"
      ]
    },
    {
      "cell_type": "code",
      "execution_count": null,
      "metadata": {
        "id": "NchFm8qI_nCe"
      },
      "outputs": [],
      "source": [
        "Mini_o = np.full((5,5),4) #Inicializamos la matriz con un valor escogido\n",
        "\n",
        "print(Mini_o)"
      ]
    },
    {
      "cell_type": "markdown",
      "metadata": {
        "id": "NyFAriMxAnzs"
      },
      "source": [
        "[`np.Inf`](https://numpy.org/doc/stable/reference/constants.html#numpy.inf): Una constante definida en NumPy que representa el valor de infinito."
      ]
    },
    {
      "cell_type": "code",
      "execution_count": null,
      "metadata": {
        "id": "wBhhVCXWAKv4"
      },
      "outputs": [],
      "source": [
        "Mini_o = np.full((5,5),np.Inf) #Inicializamos las entradas en infinito\n",
        "\n",
        "print(Mini_o)"
      ]
    },
    {
      "cell_type": "markdown",
      "metadata": {
        "id": "9Pm_CcqhBSaD"
      },
      "source": [
        "Más sobre otros valores constantes definidos en NumPy se pueden encontrar [aquí](https://numpy.org/devdocs/reference/constants.html).\n",
        "\n",
        "Cada manera de inicializar entradas responde a una necesidad específica del programador y del algoritmo que implemente. Por ejemplo, en ciencia de datos es muy común usar `linspace` y `arange`.\n"
      ]
    },
    {
      "cell_type": "code",
      "execution_count": null,
      "metadata": {
        "id": "9nbPavRPDbcR"
      },
      "outputs": [],
      "source": [
        "tiempo = np.linspace(0,50,100) #Entre 0 y 50 dará 100 valores\n",
        "\n",
        "print(tiempo)"
      ]
    },
    {
      "cell_type": "code",
      "execution_count": null,
      "metadata": {
        "id": "eJ3CuP7xFeXO"
      },
      "outputs": [],
      "source": [
        "tiempo = np.arange(0,50,0.5) #Entre 0 y 50 dará una cantidad de valores separados cada 0.5\n",
        "\n",
        "print(tiempo)"
      ]
    },
    {
      "cell_type": "code",
      "execution_count": null,
      "metadata": {
        "id": "c-FhJJlLUDxk"
      },
      "outputs": [],
      "source": [
        "print(range(0,50))"
      ]
    },
    {
      "cell_type": "markdown",
      "metadata": {
        "id": "0SfsrcbUZTkc"
      },
      "source": [
        "Note lo siguiente:\n",
        "\n",
        "* linspace() no omite el último valor del ámbito como sucede con range(). arange() es el *similar* en arreglos a range(), ambos omiten el último valor.\n",
        "* arange() es más adecuado cuando se necesita una **separación** definida entre los datos.\n",
        "* linspace() es más adecuado cuando se necesita una **cantidad** definida de datos.\n"
      ]
    },
    {
      "cell_type": "markdown",
      "metadata": {
        "id": "CP-UQzoMZWeE"
      },
      "source": [
        "## Ejemplo\n",
        "\n",
        "Para las siguientes aplicaciones piense cuál función de creación de arreglos utilizaría.\n",
        "\n",
        "* Hay un modelo matemático, digamos un $f(x)$, que usted desarrolló y quiere visualizar su comportamiento $x$ vs $f(x)$ en Python. A usted solo le interesa visualizar cuando $x$ está entre dos valores $x_i$ y $x_f$. Cree un arreglo para $x$.\n",
        "\n",
        "* Usted realizará un experimento para ver la \"psicología de números\" y hará una encuesta automatizada donde cada usuario insertará seis números del 1 al 10. La respuesta se guardará en un arreglo unidimensional de seis elementos.\n",
        "\n",
        "* Su instructor del taller le pide que haga una función con un algoritmo que devuelva una matriz [diagonal](https://en.wikipedia.org/wiki/Diagonal_matrix). Este algoritmo podría tener un ciclo que transforma ciertas entradas de la matriz.\n",
        "\n"
      ]
    },
    {
      "cell_type": "code",
      "execution_count": null,
      "metadata": {
        "id": "F3SXg6uvGgOV"
      },
      "outputs": [],
      "source": [
        "x = np.linspace(0, 9, num=1000)\n",
        "y = np.sin(x)\n",
        "\n",
        "import matplotlib.pyplot as plt\n",
        "\n",
        "plt.plot(x, y)"
      ]
    },
    {
      "cell_type": "code",
      "execution_count": null,
      "metadata": {
        "id": "cOWuoMNgGgOV"
      },
      "outputs": [],
      "source": [
        "x = np.full(6, np.NAN)\n",
        "x"
      ]
    },
    {
      "cell_type": "code",
      "execution_count": null,
      "metadata": {
        "id": "gbDT4USPGgOW"
      },
      "outputs": [],
      "source": [
        "x = np.empty(6)\n",
        "x"
      ]
    },
    {
      "cell_type": "code",
      "execution_count": null,
      "metadata": {
        "id": "6snB5duyGgOW"
      },
      "outputs": [],
      "source": [
        "x = np.zeros([3,3])\n",
        "x"
      ]
    },
    {
      "cell_type": "markdown",
      "metadata": {
        "id": "0uz684OgGUKT"
      },
      "source": [
        "### Arreglos de entradas aleatorias\n",
        "\n",
        "NumPy ofrece el submódulo `random`, que permite hacer muestreo aleatorio y crear arreglos de estos datos. Posee distintas funciones disponibles según lo que queramos, veamos algunas."
      ]
    },
    {
      "cell_type": "code",
      "execution_count": null,
      "metadata": {
        "id": "kJy5xPxZHfGw"
      },
      "outputs": [],
      "source": [
        "matRandom = np.random.random([5,5]) #Devuelve números aleatorios entre 0 y 1, indicando dimensiones\n",
        "\n",
        "print(matRandom)"
      ]
    },
    {
      "cell_type": "code",
      "execution_count": null,
      "metadata": {
        "id": "cTesOtrWIoS0"
      },
      "outputs": [],
      "source": [
        "matRandomNorm = np.random.normal(0,1,[5,5]) #Muestreo aleatorio de una distribución normal de media y desviación definidas\n",
        "print(matRandomNorm)"
      ]
    },
    {
      "cell_type": "markdown",
      "metadata": {
        "id": "5Oj5PZctJRCy"
      },
      "source": [
        "El subpaquete random es uno de los más útiles que tiene NumPy, puede consultar más de sus funciones [aquí](https://numpy.org/doc/stable/reference/random/index.html?highlight=random#module-numpy.random).\n",
        "\n",
        "### Comandos útiles para arrays de Numpy\n",
        "\n",
        "* El concepto de manipulacion de datos en Python se basa casi por completo en el manejo de arreglos de NumPy. La biblioteca de manejo de datos más famosa de Python, Pandas, basa sus DataFrames y Series en arreglos de NumPy.\n",
        "\n",
        "| Comando | Resultado |\n",
        "| :---: | :---: |\n",
        "| [`shape`](https://numpy.org/doc/stable/reference/generated/numpy.shape.html#numpy.shape) | Retorna una tupla con el número de elementos por dimensión|\n",
        "| [`ndim`](https://numpy.org/doc/stable/reference/generated/numpy.ndarray.ndim.html) | Dice el número de dimensiones|\n",
        "| [`size`](https://numpy.org/doc/stable/reference/generated/numpy.ndarray.size.html) | Dice cuántos elementos hay en un arreglo|\n",
        "| [`dtype`](https://numpy.org/doc/stable/reference/generated/numpy.ndarray.dtype.html) | Dice el tipo de datos que guarda un arreglo|\n",
        "| [`T`](https://numpy.org/doc/stable/reference/generated/numpy.ndarray.T.html) | Retorna la transpuesta de un arreglo|\n",
        "| [`fill`](https://numpy.org/doc/stable/reference/generated/numpy.ndarray.fill.html#numpy.ndarray.fill) | Rellena el arreglo con el valor especificado|\n",
        "| [`reshape`](https://numpy.org/doc/stable/reference/generated/numpy.ndarray.reshape.html) | Retorna un arreglo con el shape especificado|\n",
        "| [`resize`](https://numpy.org/doc/stable/reference/generated/numpy.ndarray.resize.html) | Cambia el tamaño y shape del arreglo|\n",
        "\n",
        "#### Exploración de un arreglo"
      ]
    },
    {
      "cell_type": "code",
      "execution_count": null,
      "metadata": {
        "id": "VxhlLpk4LDS5"
      },
      "outputs": [],
      "source": [
        "print('Su arreglo es de la forma', matRandom.shape) #Da dimensiones"
      ]
    },
    {
      "cell_type": "code",
      "execution_count": null,
      "metadata": {
        "id": "nBtqqj7qLshS"
      },
      "outputs": [],
      "source": [
        "print(f'Su arreglo es de {matRandom.ndim} dimensiones') #Da cantidad de dimensiones"
      ]
    },
    {
      "cell_type": "code",
      "execution_count": null,
      "metadata": {
        "id": "QyThhZv0L6DS"
      },
      "outputs": [],
      "source": [
        "print('El tamaño de su arreglo es', matRandom.size) #Da cantidad de elementos en el arreglo"
      ]
    },
    {
      "cell_type": "code",
      "execution_count": null,
      "metadata": {
        "id": "Q-R5SyKkMUe2"
      },
      "outputs": [],
      "source": [
        "print('Su arreglo guarda datos tipo', matRandom.dtype) #Da tipo de dato que guarda"
      ]
    },
    {
      "cell_type": "markdown",
      "metadata": {
        "id": "e-loxDYzMSPL"
      },
      "source": [
        "#### Modificación de un arreglo"
      ]
    },
    {
      "cell_type": "code",
      "execution_count": null,
      "metadata": {
        "id": "ol9wlg3pMvyr"
      },
      "outputs": [],
      "source": [
        "vecEj = np.array([1,2,3]) #Vector del ejercicio 1x3\n",
        "print(vecEj.T)"
      ]
    },
    {
      "cell_type": "markdown",
      "metadata": {
        "id": "-4lBxkSfTEwB"
      },
      "source": [
        "Parece que devuelte el mismo vector, probemos con shape."
      ]
    },
    {
      "cell_type": "code",
      "execution_count": null,
      "metadata": {
        "id": "rmky5tOCTOqi"
      },
      "outputs": [],
      "source": [
        "print('El vector del ejercicio era', vecEj.shape)"
      ]
    },
    {
      "cell_type": "code",
      "execution_count": null,
      "metadata": {
        "id": "naHAtQd5TeKv"
      },
      "outputs": [],
      "source": [
        "print('Su transpuesta es', vecEj.T.shape)"
      ]
    },
    {
      "cell_type": "markdown",
      "metadata": {
        "id": "mafsdWDdT6AD"
      },
      "source": [
        "¡No podemos transponer vectores en una dimensión! Pero para obtener el vector vertical podemos aplicar un truco."
      ]
    },
    {
      "cell_type": "code",
      "execution_count": null,
      "metadata": {
        "id": "J5uWwSuVUDxu"
      },
      "outputs": [],
      "source": [
        "vecEj2D = np.array([[1,2,3]])"
      ]
    },
    {
      "cell_type": "code",
      "execution_count": null,
      "metadata": {
        "id": "vBnkt1s8UP9P"
      },
      "outputs": [],
      "source": [
        "print('El vector del ejercicio era',vecEj2D.shape)"
      ]
    },
    {
      "cell_type": "code",
      "execution_count": null,
      "metadata": {
        "id": "JAb1jlSYURp_"
      },
      "outputs": [],
      "source": [
        "print('Su transpuesta es',vecEj2D.T.shape)"
      ]
    },
    {
      "cell_type": "markdown",
      "metadata": {
        "id": "PT3EE9sDUher"
      },
      "source": [
        "El doble [] hace que el vector que tenemos sea de 2 dimensiones en vez de una, con esto podemos transponerlo y obtener el vector vertical."
      ]
    },
    {
      "cell_type": "code",
      "execution_count": null,
      "metadata": {
        "id": "aLDciDpiU0tB"
      },
      "outputs": [],
      "source": [
        "print(vecEj2D.T)"
      ]
    },
    {
      "cell_type": "code",
      "execution_count": null,
      "metadata": {
        "id": "iGivsaM-GgOa"
      },
      "outputs": [],
      "source": [
        "valores = np.ones(16)\n",
        "valores"
      ]
    },
    {
      "cell_type": "code",
      "execution_count": null,
      "metadata": {
        "id": "NuhhDW6IGgOa"
      },
      "outputs": [],
      "source": [
        "valores.shape = (4,4)\n",
        "valores"
      ]
    },
    {
      "cell_type": "code",
      "execution_count": null,
      "metadata": {
        "id": "fd8b-5zPGgOa"
      },
      "outputs": [],
      "source": [
        "valores.shape = (2, 8)\n",
        "valores"
      ]
    },
    {
      "cell_type": "markdown",
      "metadata": {
        "id": "IgecmaHkVPMe"
      },
      "source": [
        "Podemos aplicar funciones para que modificar el tamaño o el acomodo del arreglo a nuestra conveniencia, eso se logra con reshape() y resize()."
      ]
    },
    {
      "cell_type": "code",
      "execution_count": null,
      "metadata": {
        "id": "jrEZibl3VB-f"
      },
      "outputs": [],
      "source": [
        "print(vecEj.reshape(3,1)) #Acomoda el arrreglo según las filas y columnas requeridas"
      ]
    },
    {
      "cell_type": "markdown",
      "metadata": {
        "id": "qHuWe_BeWv0i"
      },
      "source": [
        "En este caso las dimensiones calzan, pero si no entonces la función no podrá hacer el reacomodo. *Ejemplo:* No se puede meter un arreglo 5x5 en un 3x3 ni viceversa.\n",
        "\n",
        "¿Podríamos lograr hacer algo con resize()?"
      ]
    },
    {
      "cell_type": "code",
      "execution_count": null,
      "metadata": {
        "id": "EyQjCvn8XyLA"
      },
      "outputs": [],
      "source": [
        "peq = np.ones(6) #Indicar una sola dimensión hace que suponga que son columnas\n",
        "\n",
        "print(peq) #Arreglo más pequeño que el resultado"
      ]
    },
    {
      "cell_type": "code",
      "execution_count": null,
      "metadata": {
        "id": "9J7XQ_FzYbfh"
      },
      "outputs": [],
      "source": [
        "peq.resize(3,3)\n",
        "\n",
        "print(peq)"
      ]
    },
    {
      "cell_type": "code",
      "execution_count": null,
      "metadata": {
        "id": "Gi7A_jqpal_1"
      },
      "outputs": [],
      "source": [
        "gran = np.ones(15)\n",
        "\n",
        "print(gran) #Arreglo más grande que el resultado"
      ]
    },
    {
      "cell_type": "code",
      "execution_count": null,
      "metadata": {
        "id": "tAmE-fWxbAsZ"
      },
      "outputs": [],
      "source": [
        "gran.resize(3,3)\n",
        "\n",
        "print(gran)"
      ]
    },
    {
      "cell_type": "markdown",
      "metadata": {
        "id": "Yq31wEJeZ3Yd"
      },
      "source": [
        "\n",
        "### Operaciones con arreglos de NumPy\n",
        "\n",
        "En NumPy se opera con los vectores como se hace en álgebra lineal."
      ]
    },
    {
      "cell_type": "code",
      "execution_count": null,
      "metadata": {
        "id": "Wle0YfGPalCC"
      },
      "outputs": [],
      "source": [
        "coeficientes = np.array([[3,2,-1],[2,-2,4],(-1,0.5,-1)]) #Matriz 3x3\n",
        "\n",
        "print(coeficientes)"
      ]
    },
    {
      "cell_type": "code",
      "execution_count": null,
      "metadata": {
        "id": "ekDzJDRXcND1"
      },
      "outputs": [],
      "source": [
        "print(coeficientes*3) #Multiplica cada entrada por el escalar"
      ]
    },
    {
      "cell_type": "code",
      "execution_count": null,
      "metadata": {
        "id": "qlW2uc7EcP3b"
      },
      "outputs": [],
      "source": [
        "print(coeficientes*coeficientes) #Multiplicación de matrices, fila por columna"
      ]
    },
    {
      "cell_type": "code",
      "execution_count": null,
      "metadata": {
        "id": "Lh06r7Xk9c_I"
      },
      "outputs": [],
      "source": [
        "print(vecEj)\n",
        "print(vecEj*vecEj) #Mutiplicación de vectores es entrada por entrada"
      ]
    },
    {
      "cell_type": "markdown",
      "metadata": {
        "id": "6ce9gDW59yVW"
      },
      "source": [
        "### Slicing de arreglos\n",
        "\n",
        "* Si tenemos arreglos de una dimensión podemos usar la sintaxis [] como la hemos visto hasta el momento.\n",
        "* Si tiene más dimensiones entonces debemos indicar la posición en cada dimensión y el slice en cada dimensión. *Ejemplo*: las matrices se indexan como [fila,columna] y el slicing se hace [inicio:final:step,inicio:final:step]."
      ]
    },
    {
      "cell_type": "code",
      "execution_count": null,
      "metadata": {
        "id": "gcSnEKMX-szE"
      },
      "outputs": [],
      "source": [
        "print(coeficientes[1,2]) #Elemento en fila 1 y columna 2"
      ]
    },
    {
      "cell_type": "code",
      "execution_count": null,
      "metadata": {
        "id": "05N_XBhsa_y5"
      },
      "outputs": [],
      "source": [
        "print(coeficientes)"
      ]
    },
    {
      "cell_type": "code",
      "execution_count": null,
      "metadata": {
        "id": "kpWhoaRb-0FS"
      },
      "outputs": [],
      "source": [
        "print(coeficientes[1:,1:]) #Elementos en la fila 1 y la columna 1 hacia adelante"
      ]
    },
    {
      "cell_type": "markdown",
      "metadata": {
        "id": "TlHOB6bVRjmV"
      },
      "source": [
        "## Ejemplo\n",
        "\n",
        "Cree una función que genera un arreglo de numpy que representa un color.\n",
        "\n",
        "* Debe usar el formato RGB donde cada entrada del arreglo es un canal.\n",
        "* Los canales no deben sobrepasar más de 255 ni ser menos de 0.\n",
        "\n",
        "La función regresa entonces un color aleatorio."
      ]
    },
    {
      "cell_type": "code",
      "execution_count": null,
      "metadata": {
        "id": "LZfAKFBuGgOe"
      },
      "outputs": [],
      "source": [
        "import numpy as np\n",
        "import random\n",
        "\n",
        "def generar_color():\n",
        "    valor_max = 255\n",
        "    valor_min = 0\n",
        "    r = random.randint(0, 255)\n",
        "    g = random.randint(0, 255)\n",
        "    b = random.randint(0, 255)\n",
        "    return np.array([r,g,b])\n",
        "\n",
        "print(generar_color())"
      ]
    },
    {
      "cell_type": "markdown",
      "metadata": {
        "id": "d3HDGAB-GgOe"
      },
      "source": [
        "## Análisis exploratorio de datos con Pandas"
      ]
    },
    {
      "cell_type": "code",
      "execution_count": null,
      "metadata": {
        "id": "kTzYowxmGgOe"
      },
      "outputs": [],
      "source": [
        "import pandas as pd"
      ]
    },
    {
      "cell_type": "code",
      "execution_count": null,
      "metadata": {
        "id": "9l29nI3GGgOf"
      },
      "outputs": [],
      "source": [
        "cols = [\"Artist\", \"Album\", \"Danceability\", \"Tempo\"]\n",
        "spotify_df = pd.read_csv(\"Spotify_Youtube.csv\", usecols=cols)\n",
        "spotify_df"
      ]
    },
    {
      "cell_type": "code",
      "execution_count": null,
      "metadata": {
        "id": "ObW7D329GgOf"
      },
      "outputs": [],
      "source": [
        "u2_df = spotify_df[spotify_df[\"Artist\"] == \"U2\"]\n",
        "u2_df"
      ]
    },
    {
      "cell_type": "code",
      "execution_count": null,
      "metadata": {
        "id": "ukagvoALsEsy"
      },
      "outputs": [],
      "source": [
        "u2_df.to_csv(\"u2.csv\")"
      ]
    },
    {
      "cell_type": "code",
      "execution_count": null,
      "metadata": {
        "id": "6mcPzeayGgOf"
      },
      "outputs": [],
      "source": [
        "u2_df.plot.scatter(\"Tempo\",\"Danceability\")"
      ]
    },
    {
      "cell_type": "code",
      "execution_count": null,
      "metadata": {
        "id": "61_99O9DGgOf"
      },
      "outputs": [],
      "source": [
        "daft_punk_df = spotify_df[spotify_df[\"Artist\"] == \"Daft Punk\"]\n",
        "daft_punk_df.plot.scatter(\"Tempo\",\"Danceability\")"
      ]
    },
    {
      "cell_type": "code",
      "execution_count": null,
      "metadata": {
        "id": "wt806DKfGgOf"
      },
      "outputs": [],
      "source": [
        "u2_df.transpose().transpose()"
      ]
    },
    {
      "cell_type": "code",
      "execution_count": null,
      "metadata": {
        "id": "lKSHKRB6GgOg"
      },
      "outputs": [],
      "source": [
        "u2_df"
      ]
    },
    {
      "cell_type": "code",
      "execution_count": null,
      "metadata": {
        "id": "aXFPz546GgOg"
      },
      "outputs": [],
      "source": [
        "u2_df.at[669, 'Danceability' ] = 0.05"
      ]
    },
    {
      "cell_type": "markdown",
      "metadata": {
        "id": "owFlUSqfIxjk"
      },
      "source": [
        "# Ejercicio\n",
        "\n",
        "Utilice las bibliotecas `pandas` y `numpy` para abrir y explorar algún conjunto de datos que utilice en su investigación. Intente generar gráficos relevantes.  \n",
        "Investigue sobre biliotecas específicas para su área (ej. BioPython, NLTK, etc)."
      ]
    }
  ],
  "metadata": {
    "colab": {
      "provenance": []
    },
    "kernelspec": {
      "display_name": "Python 3",
      "name": "python3"
    },
    "language_info": {
      "codemirror_mode": {
        "name": "ipython",
        "version": 3
      },
      "file_extension": ".py",
      "mimetype": "text/x-python",
      "name": "python",
      "nbconvert_exporter": "python",
      "pygments_lexer": "ipython3",
      "version": "3.11.3"
    }
  },
  "nbformat": 4,
  "nbformat_minor": 0
}