{
  "cells": [
    {
      "cell_type": "markdown",
      "metadata": {
        "id": "RmkFMWHyZmDF"
      },
      "source": [
        "# Clase 2\n",
        "\n",
        "## Condicionales en Python\n",
        "\n",
        "Un condicional en los lenguajes de programación nos permite indicarle al programa que siga un conjunto particular de instrucciones dada alguna condición previa.\n",
        "Por ejemplo,\n",
        "\n",
        "```\n",
        "Si esta lloviendo:\n",
        "  Abrir el paraguas\n",
        "Si no:\n",
        "  Continuar caminando\n",
        "```\n",
        "\n",
        "Aquí notamos que hay dos acciones distintas a seguir dependiendo de una condición (cuyo valor puede ser únicamente verdadera o falsa).  \n",
        "En Python, hacemos uso de la palabra clave `if` para indicar el \"Si\", la palabra clave `else` para indicar el \"Si no\" y otra expresion `elif` para denotar combinaciones de `if` y `else`.  \n",
        "En general cuando nos referimos a un conjunto particular de instrucciones, les llamamos un bloque de instrucciones. En Python, todo bloque de instrucciones debe de llevar \"sangría\" o identación. En el estandard de PEP8 se define que esta debe ser de 4 espacios por nivel de identación.  \n",
        "Por lo anterior es necesario que cada bloque de instrucciones que corresponda a una condición este identado.  \n",
        "En general:\n",
        "\n",
        "```Python\n",
        "if <alguna condición>:\n",
        "    instrucciones...\n",
        "elif <alguna otra condición>:\n",
        "    instrucciones...\n",
        "else:\n",
        "    instrucciones...\n",
        "```\n",
        "\n",
        "### Ejemplos\n",
        "\n",
        "Escriba un programa que determine si es posible que una persona tenga fiebre dada su temperatura."
      ]
    },
    {
      "cell_type": "code",
      "execution_count": null,
      "metadata": {
        "id": "HRP-FBoSZmDJ"
      },
      "outputs": [],
      "source": []
    },
    {
      "cell_type": "markdown",
      "metadata": {
        "id": "bPAWx-VYZmDK"
      },
      "source": [
        "Escriba un programa que reciba el nombre del día en español y lo imprima en inglés."
      ]
    },
    {
      "cell_type": "code",
      "execution_count": null,
      "metadata": {
        "id": "9SrRww2uZmDL"
      },
      "outputs": [],
      "source": []
    },
    {
      "cell_type": "markdown",
      "metadata": {
        "id": "gGtKYsHmZmDL"
      },
      "source": [
        "### Ejemplo condicionales anidados\n",
        "\n",
        "Escriba un programa que reciba tres números enteros y muestre cual es el mayor de los tres."
      ]
    },
    {
      "cell_type": "code",
      "execution_count": null,
      "metadata": {
        "id": "mLoGhkgMZmDN"
      },
      "outputs": [],
      "source": []
    },
    {
      "cell_type": "markdown",
      "metadata": {
        "id": "509J5HhAZmDN"
      },
      "source": [
        "## Manejo basico de errores\n",
        "\n",
        "En Python existen multiples formas de manejar los errores de los usuarios (y los propios). Con lo que vimos de condicionales podemos hacer uso del mas sencillo que seria revisar los valores ingresados por los usuarios\n",
        "\n",
        "### Ejemplo\n",
        "\n",
        "Re-escriba el programa anterior para que solo acepte numeros positivos."
      ]
    },
    {
      "cell_type": "code",
      "execution_count": null,
      "metadata": {
        "id": "_qJmKBtIZmDO"
      },
      "outputs": [],
      "source": []
    },
    {
      "cell_type": "markdown",
      "metadata": {
        "id": "0bs6se2MZmDP"
      },
      "source": [
        "### Ejemplo práctico\n",
        "\n",
        "El siguiente modelo representa la velocidad del viento y la presión relativa al centro de un tornado. Si $R_0$ es el radio de la región central del tornado y $R$ una posición radial en cualquier lugar del mismo, entonces:\n",
        "\n",
        "Si $R<R_0$ (región interna):\n",
        "\n",
        "$$\\frac{M_{tan}}{M_{tan, max}} = \\frac{R}{R_0}$$\n",
        "\n",
        "$$\\frac{\\Delta P}{\\Delta P_{max}}=1-\\frac{1}{2}\\left(\\frac{R}{R_0}\\right)^2$$\n",
        "\n",
        "Si $R>R_0$ (región externa):\n",
        "\n",
        "$$\\frac{M_{tan}}{M_{tan, max}} = \\frac{R_0}{R}$$\n",
        "$$\\frac{\\Delta P}{\\Delta P_{max}}=\\frac{1}{2}\\left(\\frac{R_0}{R}\\right)^2$$\n",
        "\n",
        "Donde $\\Delta P$ es el déficit de presión y $M_{tan}$ la velocidad tangencial.\n",
        "\n",
        "Considere:\n",
        "\n",
        "$R_0 = 20$ m, $\\Delta P_{max} = 10 $ kPa y $R=50$ m.\n",
        "\n",
        "* Utilice los operadores vistos para programar la ecuación correcta para $\\Delta P$, según el valor $R$. Se le recomienda crear variables para cada una de las cantidades. Imprima el cálculo.\n",
        "\n",
        "* Si $M_{tan,max} = 100 $ m/s y un tornado **típico** tiene vientos tangenciales de $M_{tan,max} = 60$ m/s o menos y déficits de presión de $\\Delta P_{max} = 3.6$ kPa o menos, utilice operadores lógicos para verificar si este tornado sería un tornado típico."
      ]
    },
    {
      "cell_type": "code",
      "execution_count": null,
      "metadata": {
        "id": "ho4gkfpKZmDS"
      },
      "outputs": [],
      "source": []
    },
    {
      "cell_type": "markdown",
      "metadata": {
        "id": "MdxSRlf_ZmDS"
      },
      "source": [
        "## Ciclos while\n",
        "\n",
        "En la programación muchas veces se dan situaciones en las que debemos de repetir alguna instrucción mientras se cumpla alguna condición. Por ejemplo,\n",
        "\n",
        "```\n",
        "Mientras no se haya encontrado el nombre:\n",
        "  Revise el siguiente nombre del directorio.\n",
        "```\n",
        "En Python hacemos uso de la instrucción `while` y alguna condición que se debe de cumplir para que bloque de código se continúe repitiendo.  \n",
        "Como todo bloque de código, este debe de ir identado.\n",
        "\n",
        "```Python\n",
        "while <alguna condición>:\n",
        "    instrucciones...\n",
        "```\n",
        "\n",
        "### Ejemplos\n",
        "\n",
        "Escriba un programa que le pregunte al usuario un string hasta que el usuario ingrese un string vacío. En cada iteración se debe de imprimir la frase que el usuario ingreso.\n"
      ]
    },
    {
      "cell_type": "code",
      "execution_count": null,
      "metadata": {
        "id": "jEgPvEQDZmDT"
      },
      "outputs": [],
      "source": []
    },
    {
      "cell_type": "markdown",
      "metadata": {
        "id": "myL5t7cWZmDU"
      },
      "source": [
        "Escriba un programa que imprima cómo va variando en el tiempo la altura de una pelota en caída libre utilizando la expresión:  \n",
        "\n",
        "$$y = y_0+ v_0t+\\frac{1}{2}gt^2$$\n",
        "\n",
        "donde $y$ es la posición vertical en metros en un tiempo $t$ en segundos, $y_0$ es la posición inicial en metros, $v_0$ es la velocidad inicial en $\\frac{m}{s}$ y $g=9,8$ $\\frac{m}{s^2}$ es la aceleración de la gravedad. El sistema de coordenadas inicia desde donde se lanza la pelota."
      ]
    },
    {
      "cell_type": "code",
      "execution_count": null,
      "metadata": {
        "id": "yonznyonZmDV"
      },
      "outputs": [],
      "source": []
    },
    {
      "cell_type": "markdown",
      "metadata": {
        "id": "9-svdPAgZmDV"
      },
      "source": [
        "## Ciclos for\n",
        "\n",
        "Muchas veces necesitamos repetir una instrucción con cada elemento de alguna colección. Por ejemplo,\n",
        "\n",
        "```\n",
        "Para cada número i entre 1 y 10:\n",
        "  Haga n = n + i ** 2\n",
        "```\n",
        "En este caso, `i` va a tomar el valor de cada número entre el 0 y el 10 de forma secuencial, por lo que ese ciclo se repetirá 10 veces.\n",
        "\n",
        "En Python utilizamos la instrucción `for` para denotar que se realizará un ciclo de este tipo. Como siempre, los bloques de código internos deben de ir identados.\n",
        "\n",
        "```Python\n",
        "for <nombre de variable iteradora> in <nombre de colección>:\n",
        "    instrucciones...\n",
        "```\n",
        "\n",
        "En Python existen múltiples tipos de colecciones, hasta el momento hemos visto únicamente los strings que son colecciones de letras.\n",
        "\n",
        "### Ejemplo\n",
        "Escriba un programa que cuente la cantidad de vocales en una hilera\n",
        "\n"
      ]
    },
    {
      "cell_type": "code",
      "execution_count": null,
      "metadata": {
        "id": "Khd7iKo7ZmDW"
      },
      "outputs": [],
      "source": []
    },
    {
      "cell_type": "markdown",
      "metadata": {
        "id": "qflG70uOZmDX"
      },
      "source": [
        "Existe otro tipo de colección llamada `range` que representa a un rango de números:\n",
        "\n",
        "```Python\n",
        "range(<número inicial>, <número final (sin incluir)>, <salto>)\n",
        "```\n",
        "\n",
        "Por ejemplo si queremos los números del 8 al 20 de dos en dos:\n",
        "```Python\n",
        "range(8, 21, 2)\n",
        "```\n",
        "\n",
        "Por default se tiene que el número inicial es el 0 y que los saltos se hacen de uno en uno, por lo que si queremos los números del 0 al 99 podemos escribir únicamente:\n",
        "\n",
        "```Python\n",
        "range(100)\n",
        "```\n",
        "\n",
        "### Ejemplo\n",
        "Escriba un programa que para cada número en un rango indique si es divisible entre 3, 5 o ambos."
      ]
    },
    {
      "cell_type": "code",
      "execution_count": null,
      "metadata": {
        "id": "3p57m15WZmDX"
      },
      "outputs": [],
      "source": []
    },
    {
      "cell_type": "code",
      "source": [],
      "metadata": {
        "id": "CkyB3SOt4KZm"
      },
      "execution_count": null,
      "outputs": []
    },
    {
      "cell_type": "markdown",
      "metadata": {
        "id": "ESuYSvE9ZmDY"
      },
      "source": [
        "## Funciones\n",
        "\n",
        "En general, una función es un proceso que tiene una entrada y tiene alguna salida.  \n",
        "Por ejemplo, una cafetera toma café molido, agua y una taza vacía y los convierte en una taza de café.  \n",
        "Algunas funciones en matemática toman un número y lo convierten en otro.\n",
        "\n",
        "En programación también hacemos uso de funciones, aquí a los valores de entrada les llamamos \"argumentos\" y a los de salida les llamamos \"valores de retorno\".  \n",
        "También es posible que una función no tenga argumentos o valores de retorno (por ejemplo, si en la función leemos los datos de entrada del usuario y los guardamos en un archivo).\n",
        "\n",
        "El utilizar funciones en un programa tiene múltiples ventajas sobre escribir el código corrido:\n",
        "\n",
        "1. Le da un nombre explícito al conjunto de instrucciones.\n",
        "1. Parametriza el conjunto de instrucciones, por lo que se puede ejecutar en múltiples puntos con valores distintos.\n",
        "\n",
        "En Python para definir una función hacemos uso de la instrucción `def`.\n",
        "\n",
        "```Python\n",
        "def <nombre de la función>(<argumento 1>, <argumento 2>, <etc>):\n",
        "  instrucciones...\n",
        "  return <valor 1>, <valor 2>, <etc>\n",
        "```\n",
        "\n",
        "### Ejemplos\n",
        "Una función que recibe dos números y determina si el primero es divisible por el segundo:"
      ]
    },
    {
      "cell_type": "code",
      "execution_count": null,
      "metadata": {
        "id": "xMRQXrzEZmDY"
      },
      "outputs": [],
      "source": []
    },
    {
      "cell_type": "code",
      "source": [],
      "metadata": {
        "id": "qgcqxtQB6EZW"
      },
      "execution_count": null,
      "outputs": []
    },
    {
      "cell_type": "code",
      "source": [],
      "metadata": {
        "id": "1RqQwCz_AJ2T"
      },
      "execution_count": null,
      "outputs": []
    },
    {
      "cell_type": "markdown",
      "metadata": {
        "id": "zcr2ZjzYZmDZ"
      },
      "source": [
        "Escriba una función que reciba dos números positivos n y m y calcule el máximo común divisor.\n",
        "El algoritmo para calcular el máximo común divisor es el siguiente:\n",
        "```\n",
        "Inicialice d al número más pequeño entre n y m  \n",
        "Mientras m no sea divisible entre d o n no sea divisible entre d:  \n",
        "    reste 1 a d  \n",
        "Retorne d\n",
        "```"
      ]
    },
    {
      "cell_type": "code",
      "execution_count": null,
      "metadata": {
        "id": "HSVFHnLNZmDa"
      },
      "outputs": [],
      "source": []
    },
    {
      "cell_type": "markdown",
      "metadata": {
        "id": "TBECVpglZmDa"
      },
      "source": [
        "Escriba un programa que reciba un número y retorne si este es primo o no.  \n",
        "Un número es primo si es mayor que 1 y divisible sólo entre 1 y el mismo."
      ]
    },
    {
      "cell_type": "code",
      "execution_count": null,
      "metadata": {
        "id": "Q3MbtDQmZmDb"
      },
      "outputs": [],
      "source": []
    }
  ],
  "metadata": {
    "kernelspec": {
      "display_name": "Python 3",
      "language": "python",
      "name": "python3"
    },
    "language_info": {
      "codemirror_mode": {
        "name": "ipython",
        "version": 3
      },
      "file_extension": ".py",
      "mimetype": "text/x-python",
      "name": "python",
      "nbconvert_exporter": "python",
      "pygments_lexer": "ipython3",
      "version": "3.11.3"
    },
    "orig_nbformat": 4,
    "colab": {
      "provenance": []
    }
  },
  "nbformat": 4,
  "nbformat_minor": 0
}