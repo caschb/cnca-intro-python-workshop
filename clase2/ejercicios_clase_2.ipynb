{
  "nbformat": 4,
  "nbformat_minor": 0,
  "metadata": {
    "colab": {
      "provenance": []
    },
    "kernelspec": {
      "name": "python3",
      "display_name": "Python 3"
    },
    "language_info": {
      "name": "python"
    }
  },
  "cells": [
    {
      "cell_type": "markdown",
      "source": [
        "# Ecuación cuadrática\n",
        "\n",
        "Una ecuación cuadrática es aquella que tiene la forma:\n",
        "\n",
        "$ax^2 + bx + c = 0$\n",
        "\n",
        "Las soluciones o raíces de esta ecuación tienen la forma:\n",
        "\n",
        "$x_1 = \\frac{-b + \\sqrt{b^2 - 4ac}}{2a}$\n",
        "\n",
        "$x_2 = \\frac{-b - \\sqrt{b^2 - 4ac}}{2a}$\n",
        "\n",
        "La parte dentro de la raíz se llama el discriminante. Si el discriminante es positivo, la ecuación tiene dos soluciones reales, si es cero, tiene una única solución y si es negativo no tiene soluciones reales.\n",
        "\n",
        "Escriba un programa que reciba los coeficientes $a$, $b$, y $c$ e imprima el número de raíces reales de la ecuación, así como sus valores.\n"
      ],
      "metadata": {
        "id": "bk_XllLZNSyX"
      }
    },
    {
      "cell_type": "code",
      "execution_count": null,
      "metadata": {
        "id": "WSECNlQtNLqQ"
      },
      "outputs": [],
      "source": []
    },
    {
      "cell_type": "markdown",
      "source": [
        "# Promedio ponderado\n",
        "\n",
        "Escriba un programa que le pregunte al usuario el número de materias que quiere ponderar y uqe le vaya preguntando la cantidad de créditos que corresponden a la materia y la nota (en escala de 0 a 10) que sacó.\n",
        "Una vez que el programa haya leído todos los datos, tiene que mostrarle el promedio ponderado que sacó."
      ],
      "metadata": {
        "id": "iMOnI1leOeiH"
      }
    },
    {
      "cell_type": "code",
      "source": [],
      "metadata": {
        "id": "hrErconlPCoH"
      },
      "execution_count": null,
      "outputs": []
    },
    {
      "cell_type": "markdown",
      "source": [
        "# Tablas de multiplicación\n",
        "\n",
        "Escriba un programa que imprima las tablas de multiplicar desde $1\\times 1$ hasta $n\\times n$. La primera fila y la primera columna deben de incluir los números del $1$ al $n$ a modo de etiqueta."
      ],
      "metadata": {
        "id": "ZMs1P-i5PDDP"
      }
    },
    {
      "cell_type": "code",
      "source": [],
      "metadata": {
        "id": "QsQ1DnmdQYyd"
      },
      "execution_count": null,
      "outputs": []
    }
  ]
}