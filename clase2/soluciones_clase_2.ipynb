{
  "nbformat": 4,
  "nbformat_minor": 0,
  "metadata": {
    "colab": {
      "provenance": []
    },
    "kernelspec": {
      "name": "python3",
      "display_name": "Python 3"
    },
    "language_info": {
      "name": "python"
    }
  },
  "cells": [
    {
      "cell_type": "markdown",
      "source": [
        "# Ecuación cuadrática\n",
        "\n",
        "Una ecuación cuadrática es aquella que tiene la forma:\n",
        "\n",
        "$ax^2 + bx + c = 0$\n",
        "\n",
        "Las soluciones o raíces de esta ecuación tienen la forma:\n",
        "\n",
        "$x_1 = \\frac{-b + \\sqrt{b^2 - 4ac}}{2a}$\n",
        "\n",
        "$x_2 = \\frac{-b - \\sqrt{b^2 - 4ac}}{2a}$\n",
        "\n",
        "La parte dentro de la raíz se llama el discriminante. Si el discriminante es positivo, la ecuación tiene dos soluciones reales, si es cero, tiene una única solución y si es negativo no tiene soluciones reales.\n",
        "\n",
        "Escriba un programa que reciba los coeficientes $a$, $b$, y $c$ e imprima el número de raíces reales de la ecuación, así como sus valores.\n"
      ],
      "metadata": {
        "id": "bk_XllLZNSyX"
      }
    },
    {
      "cell_type": "code",
      "source": [
        "a = float(input(\"Ingrese el valor de a: \"))\n",
        "b = float(input(\"Ingrese el valor de b: \"))\n",
        "c = float(input(\"Ingrese el valor de c: \"))\n",
        "\n",
        "discriminante = b**2 - 4*a*c\n",
        "\n",
        "if discriminante > 0:\n",
        "  x1 = (-b + discriminante**0.5) / (2*a)\n",
        "  x2 = (-b - discriminante**0.5) / (2*a)\n",
        "  print(\"La ecuación tiene dos soluciones reales\")\n",
        "  print(\"x1 =\", x1)\n",
        "  print(\"x2 =\", x2\n",
        "elif discriminante == 0:\n",
        "  x1 = -b / (2*a)\n",
        "  print(\"La ecuación tiene una única solución real\")\n",
        "  print(\"x1 =\", x1)\n",
        "else:\n",
        "  print(\"La ecuación no tiene soluciones reales\")"
      ],
      "metadata": {
        "id": "2t-9l8dCRO_f"
      },
      "execution_count": null,
      "outputs": []
    },
    {
      "cell_type": "markdown",
      "source": [
        "# Promedio ponderado\n",
        "\n",
        "Escriba un programa que le pregunte al usuario el número de materias que quiere ponderar y uqe le vaya preguntando la cantidad de créditos que corresponden a la materia y la nota (en escala de 0 a 10) que sacó.\n",
        "Una vez que el programa haya leído todos los datos, tiene que mostrarle el promedio ponderado que sacó."
      ],
      "metadata": {
        "id": "iMOnI1leOeiH"
      }
    },
    {
      "cell_type": "code",
      "source": [
        "total_materias = int(input(\"Ingrese el número de materias a ponderar: \"))\n",
        "promedio = 0\n",
        "notas = 0\n",
        "for i in range(total_materias):\n",
        "  creditos = int(input(f\"Ingrese los créditos de la materia {i+1}:\"))\n",
        "  nota = float(input(f\"Ingrese la nota de la materia {i+1}:\"))\n",
        "  promedio += creditos * nota\n",
        "  notas += creditos\n",
        "promedio /= notas\n",
        "print(\"El promedio ponderado es:\", promedio)\n"
      ],
      "metadata": {
        "id": "hrErconlPCoH"
      },
      "execution_count": null,
      "outputs": []
    },
    {
      "cell_type": "markdown",
      "source": [
        "# Tablas de multiplicación\n",
        "\n",
        "Escriba un programa que imprima las tablas de multiplicar desde $1\\times 1$ hasta $n\\times n$. La primera fila y la primera columna deben de incluir los números del $1$ al $n$ a modo de etiqueta."
      ],
      "metadata": {
        "id": "ZMs1P-i5PDDP"
      }
    },
    {
      "cell_type": "code",
      "source": [
        "n = int(input(\"Ingrese el valor de n: \"))\n",
        "print(\"\\t\", end=\"\")\n",
        "for i in range(1, n+1):\n",
        "  print(i, end=\"\\t\")\n",
        "print()\n",
        "for i in range(1, n+1):\n",
        "  print(i, end=\"\\t\")\n",
        "  for j in range(1, n+1):\n",
        "    print(i*j, end=\"\\t\")\n",
        "  print()\n"
      ],
      "metadata": {
        "id": "QsQ1DnmdQYyd"
      },
      "execution_count": null,
      "outputs": []
    },
    {
      "cell_type": "code",
      "source": [],
      "metadata": {
        "id": "bf6j3CIJTN-R"
      },
      "execution_count": null,
      "outputs": []
    }
  ]
}