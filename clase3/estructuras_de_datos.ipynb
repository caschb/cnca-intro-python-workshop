{
  "cells": [
    {
      "cell_type": "markdown",
      "metadata": {
        "id": "Uza2c-i-BcAo"
      },
      "source": [
        "# Clase 3\n",
        "\n",
        "## Estructuras de datos en Python\n",
        "\n",
        "La mayoría de datos en la vida real no vienen solos, la mayoría vienen de repeticiones de expermientos, de múltiples datos tomados en conjunto, etc.\n",
        "Los tipos de dato que hemos visto hasta al momento no nos permiten trabajar con estos conjuntos de datos de forma sencilla, por lo que necesitamos una forma de organizarlos y esta es una de las razones por las que existen las estructuras de datos.\n",
        "\n",
        "Existen múltiples tipos de estructuras en Python, por ejemplo:\n",
        "\n",
        "- Tuplas\n",
        "- Listas\n",
        "- Diccionarios\n",
        "- Strings\n",
        "- Conjuntos\n",
        "\n",
        "Todos estos ejemplos son lo que llamamaos colecciones de datos.\n",
        "\n",
        "Adicionalmente existen otras estructuras muy utilizadas que se pueden trabajar por medio de bibliotecas externas a Python, por ejemplo:\n",
        "\n",
        "- ndarrays (`numpy`)\n",
        "- dataframes (`pandas` o `polars`)\n",
        "\n",
        "En la próxima clase veremos cómo se pueden utilizar estas últimas y se verá su uso básico, y en el taller de Computación Científica con Python se verá su uso de forma más detallada.\n",
        "\n",
        "\n",
        "### Tuplas\n",
        "\n",
        "Es la colección más sencilla de datos, estas son\n",
        "\n",
        "1. Ordenadas\n",
        "1. Inmutables\n",
        "1. Pueden tener duplicados\n",
        "\n",
        "Su uso más común es para devolver múltiples valores de las funciones"
      ]
    },
    {
      "cell_type": "code",
      "execution_count": null,
      "metadata": {
        "id": "pNgIfDl-BcAr"
      },
      "outputs": [],
      "source": [
        "frutas = \"manzanas\", \"bananos\", \"peras\", \"uvas\", \"mangos\"\n",
        "print(type(frutas))\n",
        "print(len(frutas))"
      ]
    },
    {
      "cell_type": "code",
      "execution_count": null,
      "metadata": {
        "id": "EDs_BWIyBcAs"
      },
      "outputs": [],
      "source": [
        "verduras = \"yuca\", \"camote\", \"papa\"\n",
        "frutas_y_verduras = frutas + verduras\n",
        "\n",
        "\n",
        "for alimento in frutas_y_verduras:\n",
        "    print(alimento)"
      ]
    },
    {
      "cell_type": "code",
      "execution_count": null,
      "metadata": {
        "id": "QA-XdX0ZBcAt"
      },
      "outputs": [],
      "source": [
        "print(frutas[3])\n",
        "print(frutas[-1])\n",
        "\n",
        "# print(frutas[5]) # Error! Sólo hay 5 elementos en la tupla\n",
        "# print(frutas[-6])\n",
        "\n",
        "# frutas[0] = \"maracuyá\" # Error! Las tuplas son inmutables\n"
      ]
    },
    {
      "cell_type": "code",
      "source": [
        "def division_simple(x, y):\n",
        "  cociente = x // y\n",
        "  residuo = x % y\n",
        "  return residuo, cociente\n",
        "\n",
        "res, coci = division_simple(14, 3)\n",
        "print(res)\n",
        "print(coci)"
      ],
      "metadata": {
        "id": "xAxvEUUeCnEE"
      },
      "execution_count": null,
      "outputs": []
    },
    {
      "cell_type": "code",
      "execution_count": null,
      "metadata": {
        "id": "PX5kUGVqBcAu"
      },
      "outputs": [],
      "source": [
        "# A esto le llamamos \"unpacking\" o \"destructuring\"\n",
        "\n",
        "numeros = 1, 2\n",
        "x, y = numeros\n",
        "print(x)\n",
        "print(y)"
      ]
    },
    {
      "cell_type": "code",
      "execution_count": null,
      "metadata": {
        "id": "T0gBCndPBcAu"
      },
      "outputs": [],
      "source": [
        "a, b = 3, 4\n",
        "print(a)\n",
        "print(b)"
      ]
    },
    {
      "cell_type": "code",
      "execution_count": null,
      "metadata": {
        "id": "YM3jyPPVBcAv"
      },
      "outputs": [],
      "source": [
        "def division_entera(dividendo, divisor):\n",
        "    cociente = dividendo // divisor\n",
        "    residuo = dividendo % divisor\n",
        "    return cociente, residuo\n",
        "\n",
        "co, re = division_entera(15, 7)\n",
        "print(co, re)"
      ]
    },
    {
      "cell_type": "markdown",
      "metadata": {
        "id": "o_Xk94dTBcAv"
      },
      "source": [
        "### Listas\n",
        "\n",
        "- Ordenadas\n",
        "- Mutables\n",
        "- Pueden tener duplicados"
      ]
    },
    {
      "cell_type": "code",
      "execution_count": null,
      "metadata": {
        "id": "1ZtDf5yRBcAw"
      },
      "outputs": [],
      "source": [
        "lista_de_compras = [\"Arroz\", \"Frijoles\", \"Cereal\", \"Comida de gato\", \"Servilletas\", \"Salsa Lizano\"]\n",
        "\n",
        "print(type(lista_de_compras))\n",
        "print(len(lista_de_compras))"
      ]
    },
    {
      "cell_type": "code",
      "execution_count": null,
      "metadata": {
        "id": "iFSRX0v7BcAx"
      },
      "outputs": [],
      "source": [
        "for elemento in lista_de_compras:\n",
        "    print(elemento)\n",
        "\n",
        "# print(lista_de_compras[0])\n",
        "# print(lista_de_compras[-1])"
      ]
    },
    {
      "cell_type": "code",
      "execution_count": null,
      "metadata": {
        "id": "byXoaziTBcAx"
      },
      "outputs": [],
      "source": [
        "lista_de_compras[0:5:2]"
      ]
    },
    {
      "cell_type": "code",
      "execution_count": null,
      "metadata": {
        "id": "Xu9GL5RdBcAy"
      },
      "outputs": [],
      "source": [
        "for indice, elemento in enumerate(lista_de_compras):\n",
        "    print(f\"El elemento en la posición {indice} es: {elemento}\")"
      ]
    },
    {
      "cell_type": "code",
      "execution_count": null,
      "metadata": {
        "id": "LjYiVmsABcAy"
      },
      "outputs": [],
      "source": [
        "\"Desinfectante\" in lista_de_compras"
      ]
    },
    {
      "cell_type": "code",
      "execution_count": null,
      "metadata": {
        "id": "El5zhaVcBcAz"
      },
      "outputs": [],
      "source": [
        "nuevo_elemento = \"Desinfectante\"\n",
        "lista_de_compras.append(nuevo_elemento)\n",
        "\n",
        "print(lista_de_compras)"
      ]
    },
    {
      "cell_type": "code",
      "execution_count": null,
      "metadata": {
        "id": "Udxmo6fWBcAz"
      },
      "outputs": [],
      "source": [
        "\n",
        "nuevo_elemento = \"Desinfectante\"\n",
        "if nuevo_elemento in lista_de_compras:\n",
        "    print(\"Ya tenemos suficiente\")\n",
        "else:\n",
        "    print(f\"Nos hace falta {nuevo_elemento}\")"
      ]
    },
    {
      "cell_type": "code",
      "source": [
        "print(lista_de_compras)"
      ],
      "metadata": {
        "id": "C9tzkcYs_fTX"
      },
      "execution_count": null,
      "outputs": []
    },
    {
      "cell_type": "code",
      "execution_count": null,
      "metadata": {
        "id": "OQeFRNPaBcAz"
      },
      "outputs": [],
      "source": [
        "lista_de_compras.remove(nuevo_elemento)"
      ]
    },
    {
      "cell_type": "code",
      "execution_count": null,
      "metadata": {
        "id": "TCrcWdolBcA0"
      },
      "outputs": [],
      "source": [
        "elemento_comprado = lista_de_compras.pop()\n",
        "print(elemento_comprado)"
      ]
    },
    {
      "cell_type": "code",
      "execution_count": null,
      "metadata": {
        "id": "efGsx7bkBcA0"
      },
      "outputs": [],
      "source": [
        "lista_de_compras.clear()\n",
        "print(lista_de_compras)"
      ]
    },
    {
      "cell_type": "code",
      "execution_count": null,
      "metadata": {
        "id": "QP90tcMxBcA0"
      },
      "outputs": [],
      "source": [
        "numeros = [i for i in range(10)]\n",
        "print(numeros)"
      ]
    },
    {
      "cell_type": "code",
      "execution_count": null,
      "metadata": {
        "id": "5B4XBPhpBcA1"
      },
      "outputs": [],
      "source": [
        "numeros_pares = [i for i in numeros if i % 2 == 0]\n",
        "print(numeros_pares)"
      ]
    },
    {
      "cell_type": "code",
      "execution_count": null,
      "metadata": {
        "id": "10eTc-NrBcA1"
      },
      "outputs": [],
      "source": [
        "resultados_experimento = [23.0, 23.1, 25.0, 34.0, 19.6]\n",
        "print(max(resultados_experimento))\n",
        "print(min(resultados_experimento))\n"
      ]
    },
    {
      "cell_type": "code",
      "execution_count": null,
      "metadata": {
        "id": "PxYcrpbeBcA1"
      },
      "outputs": [],
      "source": [
        "estudiantes = [\"Ana\", \"María\", \"Pedro\", \"María\", \"Juan\", \"Juan\", \"José\", \"Gabriela\"]\n",
        "\n",
        "print(estudiantes.count(\"María\"))\n",
        "print(estudiantes)\n",
        "estudiantes.sort()\n",
        "print(estudiantes)"
      ]
    },
    {
      "cell_type": "code",
      "execution_count": null,
      "metadata": {
        "id": "Skzyr-8EBcA1"
      },
      "outputs": [],
      "source": [
        "estudiantes_fisica = [\"Andrés\", \"Ana\", \"Sara\", \"Helena\"]\n",
        "estudiantes_mate = [\"Emanuel\", \"Lucas\", \"Mariana\", \"Isabel\"]\n",
        "\n",
        "estudiantes_fm = []\n",
        "print(estudiantes_fm)\n",
        "estudiantes_fm.extend(estudiantes_fisica)\n",
        "print(estudiantes_fm)\n",
        "estudiantes_fm.extend(estudiantes_mate)\n",
        "print(estudiantes_fm)\n"
      ]
    },
    {
      "cell_type": "code",
      "execution_count": null,
      "metadata": {
        "id": "EZ9uSK6RBcA2"
      },
      "outputs": [],
      "source": [
        "matriz = [\n",
        "    [1, 2, 3], # 0\n",
        "    [4, 5, 6], # 1\n",
        "    [7, 8, 9]  # 2\n",
        "    ]\n",
        "\n",
        "# matriz = [[1, 2, 3],[4, 5, 6],[7, 8, 9]]\n",
        "\n",
        "print(matriz)\n",
        "print(matriz[0])\n",
        "print(matriz[0][1])"
      ]
    },
    {
      "cell_type": "code",
      "execution_count": null,
      "metadata": {
        "id": "Hu_hWNl9BcA2"
      },
      "outputs": [],
      "source": [
        "for i in range(len(matriz)):\n",
        "    for j in range(len(matriz[i])):\n",
        "        print(matriz[i][j], end=\" \")\n",
        "    print(\"\")"
      ]
    },
    {
      "cell_type": "markdown",
      "metadata": {
        "id": "U77ZCABHBcA2"
      },
      "source": [
        "### Ejemplo:\n",
        "\n",
        "Suponga que usted tiene la siguiente secuencia de ADN:\n",
        "\n",
        "CAGACTAGCTTTTGCATTCTACGGTATGGCAGATGTGTTAATCTCGAGAGTGTTAAAAACTGATAGCAGC\n",
        "\n",
        "Utilice una lista y un ciclo for para contar la cantidad de nucleótidos (A, C, G, T) que contiene la cadena anterior. Imprima al final cuántos hay de cada uno.\n"
      ]
    },
    {
      "cell_type": "code",
      "execution_count": null,
      "metadata": {
        "id": "alQD_QJ4BcA2"
      },
      "outputs": [],
      "source": [
        "adn = list('CAGACTAGCTTTTGCATTCTACGGTATGGCAGATGTGTTAATCTCGAGAGTGTTAAAAACTGATAGCAGC')\n",
        "\n",
        "numero_A = 0\n",
        "numero_C = 0\n",
        "numero_G = 0\n",
        "numero_T = 0\n",
        "\n",
        "\n",
        "for nucleotido in adn:\n",
        "  if nucleotido == 'A':\n",
        "    numero_A += 1 # numero_A = numero_A + 1\n",
        "  elif nucleotido == 'C':\n",
        "    numero_C += 1\n",
        "  elif nucleotido == 'G':\n",
        "    numero_G += 1\n",
        "  elif nucleotido == 'T':\n",
        "    numero_T += 1\n",
        "\n",
        "print(f\"Cantidad A: {numero_A}\")\n",
        "print(f\"Cantidad C: {numero_C}\")\n",
        "print(f\"Cantidad G: {numero_G}\")\n",
        "print(f\"Cantidad T: {numero_T}\")\n",
        "\n"
      ]
    },
    {
      "cell_type": "markdown",
      "metadata": {
        "id": "L04IHvDlBcA2"
      },
      "source": [
        "### Diccionarios\n",
        "\n",
        "- Ordenados (Desde Python 3.7 en adelante)\n",
        "- Mutables\n",
        "- No pueden haber duplicados\n"
      ]
    },
    {
      "cell_type": "code",
      "execution_count": null,
      "metadata": {
        "id": "FlJUcCePBcA2"
      },
      "outputs": [],
      "source": [
        "banda = {\n",
        "    \"nombre\": \"Paramore\",\n",
        "    \"discos\": [\"All we know is falling\", \"Riot\", \"BNE\", \"Self titled\", \"After laughter\", \"This is why\"],\n",
        "    \"cantidad_miembros\": 3\n",
        "}\n",
        "\n",
        "print(type(banda))"
      ]
    },
    {
      "cell_type": "code",
      "execution_count": null,
      "metadata": {
        "id": "1ArSoVMOBcA3"
      },
      "outputs": [],
      "source": [
        "# banda[0] # Error!\n",
        "print(banda[\"nombre\"])\n",
        "print(banda[\"discos\"][-1])"
      ]
    },
    {
      "cell_type": "code",
      "execution_count": null,
      "metadata": {
        "id": "XHodIo8wBcA3"
      },
      "outputs": [],
      "source": [
        "print(banda.keys())\n",
        "print(banda.values())"
      ]
    },
    {
      "cell_type": "code",
      "execution_count": null,
      "metadata": {
        "id": "qx18TL-aBcA4"
      },
      "outputs": [],
      "source": [
        "for llave in banda:\n",
        "    print(llave, banda[llave])"
      ]
    },
    {
      "cell_type": "code",
      "execution_count": null,
      "metadata": {
        "id": "MK9YBUfrBcA4"
      },
      "outputs": [],
      "source": [
        "banda[\"disquera\"] = \"Independent band\"\n",
        "banda[\"genero_musical\"] = \"rock\""
      ]
    },
    {
      "cell_type": "code",
      "source": [
        "print(banda[\"vocalista\"])"
      ],
      "metadata": {
        "id": "5YbFvlirItXA"
      },
      "execution_count": null,
      "outputs": []
    },
    {
      "cell_type": "code",
      "execution_count": null,
      "metadata": {
        "id": "Um5DHqfbBcA4"
      },
      "outputs": [],
      "source": [
        "banda.get(\"vocalista\", \"NA\")"
      ]
    },
    {
      "cell_type": "code",
      "execution_count": null,
      "metadata": {
        "id": "LytmRMw5BcA4"
      },
      "outputs": [],
      "source": [
        "sismos = {\n",
        "    'sismo1':{'Epicentro':'Upala','Fecha':'28-Feb-2020', 'Magnitud': 3.4},\n",
        "    'sismo2':{'Epicentro':'Guanacaste','Fecha':'01-Mar-2020', 'Magnitud': 3.8},\n",
        "    'sismo3':{'Epicentro':'San Jose'}\n",
        "}\n",
        "\n",
        "sismos['sismo1']['Epicentro']"
      ]
    },
    {
      "cell_type": "markdown",
      "metadata": {
        "id": "s0y4PfauBcA5"
      },
      "source": [
        "### Ejemplo\n",
        "\n",
        "Suponga que usted quiere trabajar con datos sobre el acceso a recursos en distintos países. Por ejemplo, **por año** usted tiene la siguiente información:\n",
        "\n",
        "|País | Agua  | Electricidad |\n",
        "| :---: | :---: | :---: |\n",
        "| Yemen | 54.5 | 61.75 |\n",
        "| Suecia | 100 | 100 |\n",
        "| Surinam | 93.5 | 91.26 |\n",
        "\n",
        "Donde el agua y la electricidad están dados como porcentajes de la población de dicho país que tiene acceso al recurso ese año.\n",
        "\n",
        "1- Cree una plantilla de cómo almacenaría esta información usando diccionarios y/o listas, considere que puede almacenar datos distintos para diferentes años. Guarde los datos dados en la tabla como ejemplo, estos datos son del año 2009. Su solución debe permitir que los datos se puedan identificar.\n",
        "\n",
        "2- Suponga que usted prefiere trabajar con códigos en vez de nombres para los países, por ejemplo:\n",
        "\n",
        "|País | Código  |\n",
        "| :---: | :---: |\n",
        "| Yemen | YEM |\n",
        "| Suecia | SWE |\n",
        "| Surinam | SUR |\n",
        "\n",
        " Cree otra plantilla para una función que reciba el diccionario del punto 1 y sustituya los nombres de los países por su respectivo código.\n"
      ]
    },
    {
      "cell_type": "code",
      "execution_count": null,
      "metadata": {
        "id": "X94IOVB8BcA5"
      },
      "outputs": [],
      "source": [
        "yemen = {\n",
        "    'nombre': \"Yemen\",\n",
        "    'acceso_agua': \"54.5\",\n",
        "    'acceso_elec': \"61.75\",\n",
        "}\n",
        "suecia = {\n",
        "    'nombre': \"Suecia\",\n",
        "    'acceso_agua': \"100\",\n",
        "    'acceso_elec': \"100\"\n",
        "}\n",
        "surinam = {\n",
        "    'nombre': \"Surinam\",\n",
        "    'acceso_agua': \"93.5\",\n",
        "    'acceso_elec': \"91.26\"\n",
        "}\n",
        "\n",
        "paises = [yemen, suecia, surinam]\n",
        "\n",
        "def resumir(pais):\n",
        "  tabla = {\n",
        "      \"Yemen\": \"YEM\",\n",
        "      \"Suecia\": \"SWE\",\n",
        "      \"Surinam\": \"SUR\"\n",
        "  }\n",
        "  nombre = pais['nombre']\n",
        "  pais['nombre'] = tabla[nombre]\n",
        "\n",
        "print(paises)\n",
        "\n",
        "for pais in paises:\n",
        "  resumir(pais)\n",
        "print(paises)\n"
      ]
    }
  ],
  "metadata": {
    "kernelspec": {
      "display_name": "Python 3",
      "language": "python",
      "name": "python3"
    },
    "language_info": {
      "codemirror_mode": {
        "name": "ipython",
        "version": 3
      },
      "file_extension": ".py",
      "mimetype": "text/x-python",
      "name": "python",
      "nbconvert_exporter": "python",
      "pygments_lexer": "ipython3",
      "version": "3.11.3"
    },
    "orig_nbformat": 4,
    "colab": {
      "provenance": []
    }
  },
  "nbformat": 4,
  "nbformat_minor": 0
}