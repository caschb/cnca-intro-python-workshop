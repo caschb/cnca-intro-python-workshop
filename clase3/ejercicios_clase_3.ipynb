{
  "nbformat": 4,
  "nbformat_minor": 0,
  "metadata": {
    "colab": {
      "provenance": []
    },
    "kernelspec": {
      "name": "python3",
      "display_name": "Python 3"
    },
    "language_info": {
      "name": "python"
    }
  },
  "cells": [
    {
      "cell_type": "markdown",
      "source": [
        "# Lista Ordenada\n",
        "Escriba un programa que lee una lista de números y determina si está ordenada o no en orden creciente."
      ],
      "metadata": {
        "id": "s7otjVqFWJmz"
      }
    },
    {
      "cell_type": "code",
      "execution_count": null,
      "metadata": {
        "id": "uAMFhwGOV9aC"
      },
      "outputs": [],
      "source": []
    },
    {
      "cell_type": "markdown",
      "source": [
        "# Números mayores y menores al promedio\n",
        "\n",
        "Escriba una función que recibe una lista. Con esta lista tiene que calcular el promedio y luego se deben de devolver dos listas, una que contiene los números que son mayores al promedio y otra con los que son menores."
      ],
      "metadata": {
        "id": "A8fpvSx2WgaP"
      }
    },
    {
      "cell_type": "code",
      "source": [],
      "metadata": {
        "id": "9S9Zmt8eW9lM"
      },
      "execution_count": null,
      "outputs": []
    },
    {
      "cell_type": "markdown",
      "source": [
        "# Sublista\n",
        "\n",
        "Escriba una función que reciba dos listas y devuelve verdadero si la primera contiene a los elementos de la segunda lista y falso en el caso opuesto.\n",
        "\n",
        "Por ejemplo, si la primera lista es `[1, 2, 3, 4, 5]` y la segunda es `[2, 3, 4]` se debería de devolver verdadero."
      ],
      "metadata": {
        "id": "P4l67bh_W9yV"
      }
    },
    {
      "cell_type": "code",
      "source": [],
      "metadata": {
        "id": "94B1rlodXJGK"
      },
      "execution_count": null,
      "outputs": []
    }
  ]
}