{
  "nbformat": 4,
  "nbformat_minor": 0,
  "metadata": {
    "colab": {
      "provenance": []
    },
    "kernelspec": {
      "name": "python3",
      "display_name": "Python 3"
    },
    "language_info": {
      "name": "python"
    }
  },
  "cells": [
    {
      "cell_type": "markdown",
      "source": [
        "# Lista Ordenada\n",
        "Escriba un programa que lee una lista de números y determina si está ordenada o no en orden creciente."
      ],
      "metadata": {
        "id": "s7otjVqFWJmz"
      }
    },
    {
      "cell_type": "code",
      "execution_count": null,
      "metadata": {
        "id": "uAMFhwGOV9aC"
      },
      "outputs": [],
      "source": [
        "def esta_ordenada(lista):\n",
        "    for i in range(len(lista)-1):\n",
        "        if lista[i] > lista[i+1]:\n",
        "            return False\n",
        "    return True\n",
        "\n",
        "lista = []\n",
        "n = int(input(\"Ingrese la cantidad de números: \"))\n",
        "for i in range(n):\n",
        "    numero = int(input(\"Ingrese un número: \"))\n",
        "    lista.append(numero)\n",
        "\n",
        "if esta_ordenada(lista):\n",
        "    print(\"La lista está ordenada.\")\n",
        "else:\n",
        "    print(\"La lista no está ordenada.\")"
      ]
    },
    {
      "cell_type": "markdown",
      "source": [
        "# Números mayores y menores al promedio\n",
        "\n",
        "Escriba una función que recibe una lista. Con esta lista tiene que calcular el promedio y luego se deben de devolver dos listas, una que contiene los números que son mayores al promedio y otra con los que son menores."
      ],
      "metadata": {
        "id": "A8fpvSx2WgaP"
      }
    },
    {
      "cell_type": "code",
      "source": [
        "def calcular_promedio(lista):\n",
        "    suma = 0\n",
        "    for numero in lista:\n",
        "        suma += numero\n",
        "    promedio = suma / len(lista)\n",
        "    return promedio\n",
        "\n",
        "def mayores_y_menores(lista):\n",
        "    promedio = calcular_promedio(lista)\n",
        "    mayores = []\n",
        "    menores = []\n",
        "    for numero in lista:\n",
        "        if numero > promedio:\n",
        "            mayores.append(numero)\n",
        "        else:\n",
        "            menores.append(numero)\n",
        "    return mayores, menores\n",
        "\n",
        "lista = []\n",
        "n = int(input(\"Ingrese la cantidad de números: \"))\n",
        "for i in range(n):\n",
        "    numero = int(input(\"Ingrese un número: \"))\n",
        "    lista.append(numero)\n",
        "\n",
        "mayores, menores = mayores_y_menores(lista)\n",
        "\n",
        "print(\"Números mayores al promedio:\")\n",
        "for numero in mayores:\n",
        "    print(numero, end=\", \")\n",
        "print()\n",
        "\n",
        "print(\"Números menores al promedio:\")\n",
        "for numero in menores:\n",
        "    print(numero, end=\", \")\n",
        "print()"
      ],
      "metadata": {
        "id": "9S9Zmt8eW9lM"
      },
      "execution_count": null,
      "outputs": []
    },
    {
      "cell_type": "markdown",
      "source": [
        "# Sublista\n",
        "\n",
        "Escriba una función que reciba dos listas y devuelve verdadero si la primera contiene a los elementos de la segunda lista y falso en el caso opuesto.\n",
        "\n",
        "Por ejemplo, si la primera lista es `[1, 2, 3, 4, 5]` y la segunda es `[2, 3, 4]` se debería de devolver verdadero."
      ],
      "metadata": {
        "id": "P4l67bh_W9yV"
      }
    },
    {
      "cell_type": "code",
      "source": [
        "def contiene_sublista(lista1, lista2):\n",
        "    for i in range(len(lista1) - len(lista2) + 1):\n",
        "        if lista1[i:i+len(lista2)] == lista2:\n",
        "            return True\n",
        "    return False"
      ],
      "metadata": {
        "id": "94B1rlodXJGK"
      },
      "execution_count": null,
      "outputs": []
    }
  ]
}