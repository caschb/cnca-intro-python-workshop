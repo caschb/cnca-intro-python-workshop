{
  "cells": [
    {
      "cell_type": "markdown",
      "metadata": {
        "id": "2LsZogTCG3A1"
      },
      "source": [
        "# Programación Orientada a Objetos"
      ]
    },
    {
      "cell_type": "markdown",
      "metadata": {
        "id": "woWweZjFG3A3"
      },
      "source": [
        "## Dunder methods"
      ]
    },
    {
      "cell_type": "markdown",
      "metadata": {
        "id": "te7t-VegG3A5"
      },
      "source": [
        "Los \"dunder methods\" o \"double underscore methods\" son métodos especiales que se pueden definir para nuestras clases.\n",
        "Se llaman así debido a que todos están rodeados de dos guiones bajos (ya conocemos a `__init__`, por ejemplo).  \n",
        "A continuación se presentan algunos:\n",
        "\n",
        "|Método|Función|\n",
        "|-|-|\n",
        "|`__init__`|Sirve para definir los atributos y valores iniciales de la clase|\n",
        "|`__str__`|Sirve para definir una representación string de la clase, por ejemplo para cuando llamamos a la función `print` o `str`|\n",
        "|`__len__`|Sirve para usar con el método `len`|\n",
        "|`__add__`, `__sub__`, `__mul__`, `__truediv__`|Sirve para poder hacer uso de los operadores `+`, `-`, `*` o `/` respectivamente|\n",
        "|`__eq__`, `__neq__`, `__ge__`, `__gt__`, `__le__`, `__lt__`|Sirve para hacer uso de los operadores `==`, `!=`, `>=`, `>`, `<=` o `<` respectivamente|\n",
        "|`__and__`, `__or__`|Sirve para hacer uso de los operadores `and` u `or` respectivamente|\n",
        "\n",
        "Todos los métodos que involucran a dos objetos (los artiméticos, los de comparación y los booleanos) se llaman de la siguiente forma:\n",
        "\n",
        "```Python\n",
        "x * y\n",
        "x.__mul__(y)\n",
        "```\n",
        "\n",
        "Esto quiere decir que si `x` y `y` son de distintos tipos podría ser que tengamos error al hacer lo siguiente:\n",
        "\n",
        "```Python\n",
        "y * x\n",
        "y.__mul__(x)\n",
        "```\n",
        "Nos de error, debido a que es posible que `y` no tenga definido el método, a pesar de que `x` si lo tenga.\n",
        "Es por esto que para los tipos de método mencionados existen también métodos \"reversos\", que aplican el método al operando de la izquierda.\n",
        "\n",
        "Estos métodos reversos serían:\n",
        "- `__radd__`, `__rsub__`, `__rmul__`, `__rtruediv__`\n",
        "- `__req__`, `__rneq__`, `__rge__`, `__rgt__`, `__rle__`, `__rlt__`\n",
        "- `__rand__`, `__ror__`"
      ]
    },
    {
      "cell_type": "code",
      "source": [
        "palabra = \"Hola\"\n",
        "palabra = palabra + \" Adios\"\n",
        "palabra * 5\n",
        "5 * palabra"
      ],
      "metadata": {
        "id": "ug-JZxODHBk7"
      },
      "execution_count": null,
      "outputs": []
    },
    {
      "cell_type": "markdown",
      "metadata": {
        "id": "2AlegO7nG3A6"
      },
      "source": [
        "### Ejemplo: Clase de fracciones"
      ]
    },
    {
      "cell_type": "code",
      "execution_count": null,
      "metadata": {
        "id": "zhjOfeCOG3A7"
      },
      "outputs": [],
      "source": [
        "class Fraccion:\n",
        "\n",
        "  def __init__(self, numerador, denominador):\n",
        "    self.numerador = numerador\n",
        "    self.denominador = denominador\n",
        "\n",
        "  def __str__(self):\n",
        "    return f\"{self.numerador}/{self.denominador}\"\n",
        "\n",
        "  def __add__(self, otra_fraccion):\n",
        "    nuevo_numerador = self.numerador * otra_fraccion.denominador + otra_fraccion.numerador * self.denominador\n",
        "    nuevo_denominador = self.denominador * otra_fraccion.denominador\n",
        "    return Fraccion(nuevo_numerador, nuevo_denominador)\n",
        "\n",
        "  def __eq__(self, otra_fraccion):\n",
        "    numeradores_iguales = self.numerador == otra_fraccion.numerador\n",
        "    denominadores_iguales = self.denominador == otra_fraccion.denominador\n",
        "    return numeradores_iguales and denominadores_iguales\n"
      ]
    },
    {
      "cell_type": "code",
      "source": [
        "un_medio = Fraccion(1, 2)\n",
        "un_tercio = Fraccion(1, 3)\n",
        "\n",
        "otro_medio = Fraccion(1, 2)\n",
        "\n",
        "print(un_medio == otro_medio)\n"
      ],
      "metadata": {
        "id": "IS2fpecEH4QO"
      },
      "execution_count": null,
      "outputs": []
    },
    {
      "cell_type": "markdown",
      "metadata": {
        "id": "p3DSFLYyG3A7"
      },
      "source": [
        "## Duck typing"
      ]
    },
    {
      "cell_type": "markdown",
      "metadata": {
        "id": "hG4Bcvs4G3A7"
      },
      "source": [
        "En algunos lenguajes de programación es necesario definir explícitamente para qué tipos de datos toman las funciones.  \n",
        "En Python, esto no es necesario, el intérprete de Python revisa si el objeto funciona con el método específico cuando este se llama. Esta forma de manejar los tipos se llama \"Duck typing\".  \n",
        "Este concepto es el que permite que los métodos dunder funcionen para cualquier clase en la que estén definidos.  "
      ]
    },
    {
      "cell_type": "markdown",
      "metadata": {
        "id": "1bZoGtpSG3A7"
      },
      "source": [
        "### Ejemplo: Veterinaria"
      ]
    },
    {
      "cell_type": "code",
      "execution_count": null,
      "metadata": {
        "id": "1WysQSrpG3A7"
      },
      "outputs": [],
      "source": [
        "class Perro:\n",
        "\n",
        "  def __init__(self, nombre, edad, encargado, color_correa):\n",
        "    self.nombre = nombre\n",
        "    self.edad = edad\n",
        "    self.encargado = encargado\n",
        "    self.color_correa = color_correa\n",
        "\n",
        "  def describir(self):\n",
        "    return f\"{self.nombre=}, {self.edad=}, {self.encargado=} {self.color_correa=} guau\"\n",
        "\n",
        "class Gato:\n",
        "\n",
        "  def __init__(self, nombre, edad, encargado, es_anaranjado):\n",
        "    self.nombre = nombre\n",
        "    self.edad = edad\n",
        "    self.encargado = encargado\n",
        "    self.es_anaranjado = es_anaranjado\n",
        "\n",
        "  def describir(self):\n",
        "    return f\"{self.nombre=} {self.edad=}, {self.encargado=} {self.es_anaranjado=} miau\"\n",
        "\n",
        "class Veterinaria:\n",
        "\n",
        "  def __init__(self):\n",
        "    self.animales = []\n",
        "\n",
        "  def imprimir_pacientes(self):\n",
        "    for animal in self.animales:\n",
        "      print(animal.describir())\n",
        "\n",
        "  def agregar_paciente(self, animal):\n",
        "    self.animales.append(animal)\n",
        "\n",
        "garfield = Gato(\"Garfield\", 23, \"John\", True)\n",
        "pancho = Gato(\"Pancho\", 7, \"Christian\", False)\n",
        "\n",
        "spot = Perro(\"Spot\", 12, \"Juanita\", \"roja\")\n",
        "firulais = Perro(\"Firulais\", 10, \"Tommy\", \"azul\")\n",
        "\n",
        "vet = Veterinaria()\n",
        "vet.agregar_paciente(garfield)\n",
        "vet.agregar_paciente(pancho)\n",
        "vet.agregar_paciente(spot)\n",
        "vet.agregar_paciente(firulais)\n",
        "\n",
        "vet.imprimir_pacientes()"
      ]
    },
    {
      "cell_type": "markdown",
      "metadata": {
        "id": "aGhx8catG3A8"
      },
      "source": [
        "## Herencia"
      ]
    },
    {
      "cell_type": "markdown",
      "metadata": {
        "id": "IOhyBUeUG3A8"
      },
      "source": [
        "Vimos que en la programación orientada a objetos podemos definir clases para modelar datos y sus comportamientos.\n",
        "Sin embargo, en la vida real, un objeto puede ser parte de múltiples categorías. Por ejemplo, un perro, además de ser un perro, también es un caniforme, un mamífero, un vertebrado, etc.\n",
        "En Python (y otros lenguajes de programación) se tiene un mecanismo llamado \"herencia\" para modelar este tipo de relación entre clases."
      ]
    },
    {
      "cell_type": "markdown",
      "metadata": {
        "id": "9BaoEL4MG3A9"
      },
      "source": [
        "### Ejemplo: Veterinaria con herencia"
      ]
    },
    {
      "cell_type": "code",
      "execution_count": null,
      "metadata": {
        "id": "jj3FlOiIG3A9"
      },
      "outputs": [],
      "source": [
        "class Animal:\n",
        "\n",
        "  def __init__(self, nombre, edad, encargado, numero_patas):\n",
        "    self.nombre = nombre\n",
        "    self.edad = edad\n",
        "    self.encargado = encargado\n",
        "    self.numero_patas = numero_patas\n",
        "\n",
        "  def describir_numero_patas(self):\n",
        "    return f\"tiene {self.numero_patas} patas\"\n",
        "\n",
        "class Gato(Animal):\n",
        "\n",
        "  def __init__(self, nombre, edad, encargado, es_anaranjado, numero_patas):\n",
        "    super().__init__(nombre, edad, encargado, numero_patas)\n",
        "    self.es_anaranjado = es_anaranjado\n",
        "\n",
        "  def describir(self):\n",
        "    return f\"{self.nombre=} {self.edad=}, {self.encargado=} {self.es_anaranjado=} {self.numero_patas} miau\"\n",
        "\n",
        "class Perro(Animal):\n",
        "\n",
        "  def __init__(self, nombre, edad, encargado, color_correa, numero_patas):\n",
        "    super().__init__(nombre, edad, encargado, numero_patas)\n",
        "    self.color_correa = color_correa\n",
        "\n",
        "  def describir(self):\n",
        "    return f\"{self.nombre=}, {self.edad=}, {self.encargado=} {self.color_correa=} {self.numero_patas} guau\"\n",
        "\n",
        "class Veterinaria:\n",
        "\n",
        "  def __init__(self):\n",
        "    self.animales = []\n",
        "\n",
        "  def imprimir_pacientes(self):\n",
        "    for animal in self.animales:\n",
        "      print(animal.describir())\n",
        "\n",
        "  def agregar_paciente(self, animal):\n",
        "    self.animales.append(animal)\n",
        "\n",
        "\n",
        "garfield = Gato(\"Garfield\", 23, \"John\", True, 4)\n",
        "pancho = Gato(\"Pancho\", 7, \"Christian\", False, 3)\n",
        "spot = Perro(\"Spot\", 12, \"Juanita\", \"roja\", 4)\n",
        "firulais = Perro(\"Firulais\", 10, \"Tommy\", \"azul\", 4)\n",
        "vet = Veterinaria()\n",
        "vet.agregar_paciente(garfield)\n",
        "vet.agregar_paciente(pancho)\n",
        "vet.agregar_paciente(spot)\n",
        "vet.agregar_paciente(firulais)\n",
        "\n",
        "vet.imprimir_pacientes()"
      ]
    },
    {
      "cell_type": "markdown",
      "metadata": {
        "id": "XP1d6Qg3G3A9"
      },
      "source": [
        "## Manejo de errores\n",
        "\n",
        "Hasta el momento, lo único que hemos visto para el manejo de errores es el utilizar condicionales para revisar los valores que los usuarios ingresan. Sin embargo, en Python también tenemos otra forma: los bloques `try`-`except`\n",
        "\n",
        "\n",
        "```Python\n",
        "try:\n",
        "    <bloque de código>\n",
        "except <Excepción>:\n",
        "    <bloque de código>\n",
        "```\n",
        "\n",
        "Esta estructura nos permite intentar ejecutar algún bloque de código dentro del `try` y si este fallara podemos manejar el error dentro del `except`"
      ]
    },
    {
      "cell_type": "code",
      "source": [
        "x = 50\n",
        "y = 0\n",
        "\n",
        "x / y"
      ],
      "metadata": {
        "id": "oTnY6XfdQmCq"
      },
      "execution_count": null,
      "outputs": []
    },
    {
      "cell_type": "code",
      "execution_count": null,
      "metadata": {
        "id": "L-K6eLp0G3A-"
      },
      "outputs": [],
      "source": [
        "x = 50\n",
        "y = 0\n",
        "try:\n",
        "  x / y\n",
        "except ZeroDivisionError:\n",
        "  print(\"No se puede dividir entre cero\")"
      ]
    },
    {
      "cell_type": "code",
      "source": [
        "try:\n",
        "  with open(\"archivo.txt\", \"x\") as f:\n",
        "    f.write(\"adios\")\n",
        "except FileExistsError:\n",
        "  print(\"El archivo ya existe\")\n",
        "  with open(\"archivo.txt\", \"w\") as f:\n",
        "    f.write(\"Hola.\")\n",
        "except:\n",
        "  print(\"Un error sucedió\")"
      ],
      "metadata": {
        "id": "3O-dNuxAQ17s"
      },
      "execution_count": null,
      "outputs": []
    },
    {
      "cell_type": "code",
      "source": [
        "with open(\"archivo.txt\", \"x\") as f:\n",
        "  f.write(\"Hola\")"
      ],
      "metadata": {
        "id": "HsDfsHoM_4Je"
      },
      "execution_count": null,
      "outputs": []
    }
  ],
  "metadata": {
    "kernelspec": {
      "display_name": "Python 3",
      "language": "python",
      "name": "python3"
    },
    "language_info": {
      "codemirror_mode": {
        "name": "ipython",
        "version": 3
      },
      "file_extension": ".py",
      "mimetype": "text/x-python",
      "name": "python",
      "nbconvert_exporter": "python",
      "pygments_lexer": "ipython3",
      "version": "3.10.10"
    },
    "orig_nbformat": 4,
    "colab": {
      "provenance": []
    }
  },
  "nbformat": 4,
  "nbformat_minor": 0
}