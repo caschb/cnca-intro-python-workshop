{
  "nbformat": 4,
  "nbformat_minor": 0,
  "metadata": {
    "colab": {
      "provenance": []
    },
    "kernelspec": {
      "name": "python3",
      "display_name": "Python 3"
    },
    "language_info": {
      "name": "python"
    }
  },
  "cells": [
    {
      "cell_type": "markdown",
      "source": [
        "# Ejercicio1"
      ],
      "metadata": {
        "id": "25d51fWSlIN9"
      }
    },
    {
      "cell_type": "markdown",
      "source": [
        "## Fácil"
      ],
      "metadata": {
        "id": "O3dmmhctlW8B"
      }
    },
    {
      "cell_type": "code",
      "execution_count": null,
      "metadata": {
        "id": "5QvoEqRnhseE"
      },
      "outputs": [],
      "source": [
        "nombre_del_archivo = input(\"Ingrese el nombre del archivo: \")\n",
        "\n",
        "contenidos = []\n",
        "with open(nombre_del_archivo, 'r') as f:\n",
        "  for linea in f:\n",
        "    if linea[0] != '#':\n",
        "      contenidos.append(linea)\n",
        "\n",
        "\n",
        "with open(f'{nombre_del_archivo}_out', 'w') as f:\n",
        "  f.writelines(contenidos)\n",
        "\n"
      ]
    },
    {
      "cell_type": "markdown",
      "source": [
        "## Medio"
      ],
      "metadata": {
        "id": "VKZVMHK2lP86"
      }
    },
    {
      "cell_type": "code",
      "source": [
        "nombre_del_archivo = input(\"Ingrese el nombre del archivo: \")\n",
        "\n",
        "contenidos = []\n",
        "\n",
        "with open(nombre_del_archivo, 'r') as f:\n",
        "  for linea in f:\n",
        "    linea_actual = ''\n",
        "    for letra in linea:\n",
        "      if letra == '#':\n",
        "        linea_actual += '\\n'\n",
        "        break\n",
        "      else:\n",
        "        linea_actual += letra\n",
        "    contenidos.append(linea_actual)\n",
        "\n",
        "with open(f'{nombre_del_archivo}_out', 'w') as f:\n",
        "  f.writelines(contenidos)\n"
      ],
      "metadata": {
        "id": "YZNUACpIivFU"
      },
      "execution_count": null,
      "outputs": []
    },
    {
      "cell_type": "markdown",
      "source": [
        "## Difícil"
      ],
      "metadata": {
        "id": "Gh9Vh9M6lRIz"
      }
    },
    {
      "cell_type": "code",
      "source": [
        "nombre_del_archivo = input(\"Ingrese el nombre del archivo: \")\n",
        "\n",
        "contenidos = []\n",
        "\n",
        "with open(nombre_del_archivo, 'r') as f:\n",
        "  for linea in f:\n",
        "    linea_actual = ''\n",
        "    en_string = False\n",
        "    for letra in linea:\n",
        "      if letra == '\"' and not en_string:\n",
        "        en_string = True\n",
        "        linea_actual += letra\n",
        "      elif letra == '\"' and en_string:\n",
        "        en_string = False\n",
        "        linea_actual += letra\n",
        "      elif letra == '#' and not en_string:\n",
        "        linea_actual += '\\n'\n",
        "        break\n",
        "      else:\n",
        "        linea_actual += letra\n",
        "    contenidos.append(linea_actual)\n",
        "\n",
        "with open(f'{nombre_del_archivo}_out', 'w') as f:\n",
        "  f.writelines(contenidos)"
      ],
      "metadata": {
        "id": "YltXXOoTjkbA"
      },
      "execution_count": null,
      "outputs": []
    },
    {
      "cell_type": "markdown",
      "source": [
        "# Ejercicio 2"
      ],
      "metadata": {
        "id": "zyy89HcVlgBk"
      }
    },
    {
      "cell_type": "code",
      "source": [
        "!pip install wordcloud"
      ],
      "metadata": {
        "id": "jQ9o8DwEmLnM"
      },
      "execution_count": null,
      "outputs": []
    },
    {
      "cell_type": "code",
      "source": [
        "import pandas as pd\n",
        "import matplotlib.pyplot as plt\n",
        "import seaborn as sns\n",
        "sns.set_style(\"dark\")\n",
        "sns.color_palette(\"rocket\", as_cmap=True)\n",
        "import nltk\n",
        "nltk.download('all')"
      ],
      "metadata": {
        "id": "6CaWR3TymOz4"
      },
      "execution_count": null,
      "outputs": []
    },
    {
      "cell_type": "code",
      "source": [
        "from nltk.tokenize import word_tokenize\n",
        "from nltk.probability import FreqDist\n",
        "from nltk.corpus import stopwords\n",
        "\n",
        "stop_words = stopwords.words('english')\n",
        "\n",
        "stop_words.append('said')\n",
        "\n",
        "text = \"\"\n",
        "\n",
        "with open('sherlock.txt', 'r') as f:\n",
        "  for line in f:\n",
        "    text += line\n",
        "\n",
        "tokens = word_tokenize(text)"
      ],
      "metadata": {
        "id": "8kg-mpRZnQLc"
      },
      "execution_count": null,
      "outputs": []
    },
    {
      "cell_type": "code",
      "source": [
        "filtered_tokens = []\n",
        "\n",
        "for token in tokens:\n",
        "  token = token.lower()\n",
        "  if token.isalpha() and not token in stop_words:\n",
        "    filtered_tokens.append(token)\n",
        "\n"
      ],
      "metadata": {
        "id": "ZaXxsUCNpmVg"
      },
      "execution_count": null,
      "outputs": []
    },
    {
      "cell_type": "code",
      "source": [
        "fq = FreqDist(filtered_tokens)"
      ],
      "metadata": {
        "id": "oaKEK2LjoG5i"
      },
      "execution_count": null,
      "outputs": []
    },
    {
      "cell_type": "code",
      "source": [
        "common = fq.most_common(20)\n",
        "common = pd.Series(dict(common))\n",
        "fig, ax = plt.subplots(figsize=(10,10))\n",
        "all_plot = sns.barplot(x=common.index, y=common.values, ax=ax, hue=common.values)\n",
        "plt.xticks(rotation=30);"
      ],
      "metadata": {
        "id": "EeDC6kZzoVaK"
      },
      "execution_count": null,
      "outputs": []
    },
    {
      "cell_type": "code",
      "source": [
        "from wordcloud import WordCloud\n",
        "\n",
        "word_cloud = WordCloud(collocations = False, background_color = 'white').generate(\" \".join(filtered_tokens))\n"
      ],
      "metadata": {
        "id": "kSKdRJImqHfa"
      },
      "execution_count": null,
      "outputs": []
    },
    {
      "cell_type": "code",
      "source": [
        "plt.imshow(word_cloud, interpolation='bilinear')\n",
        "plt.axis('off')\n",
        "plt.show()"
      ],
      "metadata": {
        "id": "ROu1GsQdqWli"
      },
      "execution_count": null,
      "outputs": []
    }
  ]
}