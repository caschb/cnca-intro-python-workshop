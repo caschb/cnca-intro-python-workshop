{
  "cells": [
    {
      "cell_type": "markdown",
      "metadata": {
        "id": "f3bMlhHYYKzM"
      },
      "source": [
        "# Manejo de archivos de texto\n",
        "\n",
        "Ya en la clase 4 vimos cómo manejar archivos csv mediante la biblioteca Pandas y vimos que también existen métodos para abrir otros tipos de archivos muy utilizados como JSON y Excel, pero también existen formas nativas de Python de manejar archivos de forma manual en caso de que se requiera leer un tipo de archivo particular.\n",
        "\n",
        "## Funciones de lectura y escritura de archivos\n",
        "\n",
        "El método [`open`](https://docs.python.org/3/library/functions.html#open) sirve para abrir o crear un archivo, nos devuelve un identificador de archivo al que podemos aplicarle operaciones como leer o escribir una línea.\n",
        "\n",
        "```Python\n",
        "<identificador de archivo> = open(<ruta al archivo>, mode=<modo>)\n",
        "```\n",
        "El `mode` puede alguno de los siguientes tipos (por default va a ser `r`):\n",
        "\n",
        "|`mode`| Descripción|\n",
        "|---|---|\n",
        "| `r` | Abrir para lectura |\n",
        "| `w` | Abrir para escritura (Si el archivo ya existe, se borrarán los contenidos) |\n",
        "| `x` | Abrir para escritura (Si el archivo ya existe dará error) |\n",
        "| `a` | Abrir para escritura (Si el archivo ya existe el contenido nuevo irá al final del archivo) |\n",
        "| `+` | Abrir para escritura y lectura |\n",
        "| `b` | Modo binario |\n",
        "| `t` | Modo texto (default) |\n",
        "\n",
        "Una vez que ya hayamos terminado de trabajar con nuestro archivo siempre es importante cerrarlo de forma explícita ya que existen casos en los que el archivo pueda corromperse si no se hace esto, sobretodo si trabajamos en un notebook.\n",
        "Para esto, utilizamos la función `close` del identificador.\n",
        "\n",
        "```Python\n",
        "<identificador de archivo>.close()\n",
        "```\n",
        "\n",
        "Alternativamente, también podemos utilizar la instrucción `with` que nos creará un bloque donde podemos trabajar con el archivo y este se cerrará de forma automática al finalizar:\n",
        "```Python\n",
        "with open(<ruta al archivo>, mode=<modo>) as <identificador de archivo>:\n",
        "  ...instrucciones...\n",
        "\n",
        "\n",
        "```\n",
        "Si leemos un archivo en modo lectura no podemos escribir en el, y viceversa.\n",
        "\n",
        "## Ejemplo de manejo de un archivo\n",
        "Imagine que queremos contar todas las veces que aparece una palabra en un archivo de texto.\n"
      ]
    },
    {
      "cell_type": "code",
      "source": [
        "palabra_a_buscar = \"d’artagnan\"\n",
        "cantidad = 0\n",
        "archivo_mosqueteros = open(\"materiales/three_musketeers.txt\", mode='r')\n",
        "for linea in archivo_mosqueteros:\n",
        "    palabras = linea.lower().strip().split()\n",
        "    for palabra in palabras:\n",
        "        if palabra == palabra_a_buscar:\n",
        "            cantidad += 1\n",
        "archivo_mosqueteros.close()\n",
        "print(cantidad)"
      ],
      "metadata": {
        "id": "3Qm_ihGHJxVu"
      },
      "execution_count": null,
      "outputs": []
    },
    {
      "cell_type": "code",
      "execution_count": null,
      "metadata": {
        "id": "3XfyojnmYKzN"
      },
      "outputs": [],
      "source": [
        "palabra_a_buscar = \"d’artagnan\"\n",
        "cantidad = 0\n",
        "with open(\"materiales/three_musketeers.txt\", mode='r') as archivo_mosqueteros:\n",
        "    for linea in archivo_mosqueteros:\n",
        "        palabras = linea.lower().strip().split()\n",
        "        for palabra in palabras:\n",
        "            if palabra == palabra_a_buscar:\n",
        "                cantidad += 1\n",
        "\n",
        "print(cantidad)\n",
        "\n",
        "# with open(\"materiales/three_musketeers.txt\", mode='r') as archivo_mosqueteros:\n",
        "#     lectura = archivo_mosqueteros.read(1)\n",
        "#     print(lectura)\n",
        "#     lectura = archivo_mosqueteros.read(2)\n",
        "#     print(lectura)\n",
        "#     lectura = archivo_mosqueteros.read(3)\n",
        "#     print(lectura)\n",
        "\n",
        "# with open(\"materiales/three_musketeers.txt\", mode='r') as archivo_mosqueteros:\n",
        "#     lineas = archivo_mosqueteros.readlines()\n",
        "#     for linea in lineas:\n",
        "#         print(linea[0])\n",
        "\n",
        "\n"
      ]
    },
    {
      "cell_type": "markdown",
      "metadata": {
        "id": "VwCzecRQYKzN"
      },
      "source": [
        "Ahora imagine que queremos crear un diccionario que contenga todas las palabras que aparecen en el texto y cuántas veces aparecen:"
      ]
    },
    {
      "cell_type": "code",
      "source": [
        "diccionario_ejemplo = {\"llave1\": 5}\n",
        "\n",
        "cantidad = diccionario_ejemplo.get(\"llave2\", 0)\n",
        "print(cantidad)\n",
        "diccionario_ejemplo[\"llave2\"] = cantidad + 1\n",
        "\n",
        "print(diccionario_ejemplo[\"llave2\"])\n",
        "\n",
        "# diccionario_ejemplo.get(\"llave10\", 0)"
      ],
      "metadata": {
        "id": "QghNOzedmZ9o"
      },
      "execution_count": null,
      "outputs": []
    },
    {
      "cell_type": "code",
      "execution_count": null,
      "metadata": {
        "id": "1UkeKUUhYKzP"
      },
      "outputs": [],
      "source": [
        "conteo_palabras = dict()\n",
        "\n",
        "with open(\"materiales/three_musketeers.txt\", mode='r') as archivo_mosqueteros:\n",
        "    for linea in archivo_mosqueteros:\n",
        "        palabras = linea.lower().strip().split()\n",
        "        for palabra in palabras:\n",
        "            cantidad = conteo_palabras.get(palabra, 0)\n",
        "            conteo_palabras[palabra] = cantidad + 1\n",
        "\n",
        "conteo_palabras = dict(sorted(conteo_palabras.items(), key=lambda x:x[1], reverse=True))\n",
        "print(conteo_palabras)"
      ]
    },
    {
      "cell_type": "markdown",
      "metadata": {
        "id": "UcRV8H6UYKzP"
      },
      "source": [
        "Si quisiéramos escribir este diccionario a un archivo podríamos hacer lo siguiente:"
      ]
    },
    {
      "cell_type": "code",
      "execution_count": null,
      "metadata": {
        "id": "k8qFmuKqYKzP"
      },
      "outputs": [],
      "source": [
        "# with open(\"materiales/conteo.txt\", 'w') as archivo_conteo:\n",
        "#     for palabra in conteo_palabras:\n",
        "#         archivo_conteo.write(f\"{palabra}: {conteo_palabras[palabra]}\\n\")   # \\n significa \"Agregue un enter\""
      ]
    },
    {
      "cell_type": "code",
      "execution_count": null,
      "metadata": {
        "id": "VVP__OT8YKzQ"
      },
      "outputs": [],
      "source": [
        "with open(\"conteo.csv\", 'w') as archivo_conteo:\n",
        "    archivo_conteo.write(\"Palabra,Cantidad\\n\")\n",
        "    for palabra in conteo_palabras:\n",
        "        archivo_conteo.write(f\"{palabra},{conteo_palabras[palabra]}\\n\")"
      ]
    },
    {
      "cell_type": "markdown",
      "metadata": {
        "id": "e3n6UPekYKzQ"
      },
      "source": [
        "Cabe mencionar que en la vida real si quisieramos hacer análisis de texto la mejor solución sería utilizar una biblioteca como [NLTK](https://www.nltk.org/)."
      ]
    },
    {
      "cell_type": "markdown",
      "metadata": {
        "id": "P11w1YusYKzQ"
      },
      "source": [
        "# Programación Orientada a Objetos\n",
        "\n",
        "La programación orientada a objetos es un paradigma de programación que se centra en la idea de objetos que representan tanto datos como comportamientos (que el objeto puede hacer o se le puede hacer al objeto).\n",
        "\n",
        "Por ejemplo, si deseamos modelar un perro tenemos:\n",
        "\n",
        "- Atributos\n",
        "  - El nombre\n",
        "  - El color\n",
        "  - Edad\n",
        "  - La persona encargada\n",
        "- Comportamientos\n",
        "  - Ladrar\n",
        "  - Pasear\n",
        "  - Comer\n",
        "  - Cumplir Años\n",
        "  - Alguien lo puede adoptar\n",
        "\n",
        "A este modelo le llamamos \"Clase\" y diferentes instancias de la Clase les llamamos \"Objetos\" o \"Instancias\" de la clase.\n",
        "\n",
        "En Python esto se haría de la siguiente forma:"
      ]
    },
    {
      "cell_type": "code",
      "execution_count": null,
      "metadata": {
        "id": "0IH644qaYKzQ"
      },
      "outputs": [],
      "source": [
        "class Perro:\n",
        "    def __init__(self, mi_nombre, mi_color, mi_edad, mi_encargado): # Son dos guiones bajos _ _ init _ _\n",
        "        self.nombre = mi_nombre\n",
        "        self.color = mi_color\n",
        "        self.edad = mi_edad\n",
        "        self.encargado = mi_encargado\n",
        "\n",
        "    def ladrar(self):\n",
        "        print(\"Guau guau\")\n",
        "\n",
        "    def pasear(self):\n",
        "        print(\"pat pat pat\")\n",
        "\n",
        "    def comer(self):\n",
        "        print(\"monch monch monch\")\n",
        "\n",
        "    def cumplir_años(self):\n",
        "        self.edad = self.edad + 1\n",
        "\n",
        "    def adoptar(self, nuevo_encargado):\n",
        "        self.encargado = nuevo_encargado\n",
        "\n",
        "    def presentarse(self):\n",
        "        print(f\"Hola soy {self.nombre}, soy de color {self.color}, tengo {self.edad} años y estoy a cargo de: {self.encargado}\")"
      ]
    },
    {
      "cell_type": "markdown",
      "metadata": {
        "id": "yz5oJm4TYKzR"
      },
      "source": [
        "Aquí vemos algunos detalles:\n",
        "\n",
        "- Para denotar a la clase utilizamos la palabra clave `class` seguido del nombre de la clase. (En Python es convención utilizar nombres en mayúscula para nombrar las clases).\n",
        "- Todas las funciones definidas dentro de la clase reciben un argumento llamado `self`, este argumento representa a una instancia de la clase en particular.\n",
        "- Tenemos una función `__init__` (dos guiones bajos de ambos lados), esta función lo que hace es definir e inicializar los atributos del objeto.\n",
        "- Si queremos utilizar o asignar nuevos valores a los atributos de la clase debemos de utilizar el `self`.\n",
        "\n",
        "Para definir instancias de la clase hacemos lo siguiente:"
      ]
    },
    {
      "cell_type": "code",
      "execution_count": null,
      "metadata": {
        "id": "HqONcpnGYKzS"
      },
      "outputs": [],
      "source": [
        "perro1 = Perro(\"Clifford\", \"Rojo\", 7, \"Emily\")\n",
        "perro2 = Perro(\"Pongo\", \"Blanco con Negro\", 10, \"Roger\")\n",
        "\n",
        "perro1.presentarse()\n",
        "perro1.ladrar()\n",
        "\n",
        "perro2.presentarse()\n",
        "perro2.pasear()\n",
        "\n",
        "perro2.adoptar(\"Anita\")\n",
        "perro2.presentarse()\n",
        "\n",
        "perro1.cumplir_años()\n",
        "perro1.presentarse()\n"
      ]
    },
    {
      "cell_type": "markdown",
      "metadata": {
        "id": "dVRkHPOzYKzS"
      },
      "source": [
        "Note que en estos casos no tuvimos que pasar de forma explícita el argumento `self`. La forma en que estamos llamando a los métodos de cada instancia:\n",
        "\n",
        "```\n",
        "<instancia>.<método>()\n",
        "```\n",
        "Hace que de forma implícita se pase el la instancia como el `self` en cada función."
      ]
    },
    {
      "cell_type": "markdown",
      "metadata": {
        "id": "ArrBHBtuYKzS"
      },
      "source": [
        "## Ejemplo con archivos FASTA\n",
        "\n",
        "En bioinformática y en bioquímica el formato [FASTA](https://en.wikipedia.org/wiki/FASTA_format) se utiliza para representar secuencias de nucleótidos o aminoácidos, donde estos se representan con una letra.\n",
        "Cada secuencia empieza con el símbolo `>`, luego el nombre y la descripción y en la siguiente línea sigue la secuencia:\n",
        "```\n",
        ">100d_A mol:na length:10  DNA/RNA (5'-R(*CP*)-D(*CP*GP*GP*CP*GP*CP*CP*GP*)-R(*G)-3')\n",
        "CCGGCGCCGG\n",
        "```\n",
        "El archivo `pdb_seqres.txt` tomado del [Protein Data Bank](https://www.rcsb.org) contiene en la descripción el nombre de la secuencia, el tipo de secuencia (N/A o Proteína), la longitud de la cadena y una representación del ADN/ARN.\n",
        "\n",
        "Cree una clase que guarde el nombre, el tipo, la representación y la secuencia.\n",
        "Adicionalmente tiene que tener métodos que reconstruya la entrada en formato FASTA, la longitud y cuántos nucleótidos o aminoácidos de cierto tipo hay.\n",
        "\n",
        "El paquete [`biopython`](https://biopython.org/) ya tiene formas de leer este tipo de archivos.\n"
      ]
    }
  ],
  "metadata": {
    "kernelspec": {
      "display_name": "Python 3",
      "language": "python",
      "name": "python3"
    },
    "language_info": {
      "codemirror_mode": {
        "name": "ipython",
        "version": 3
      },
      "file_extension": ".py",
      "mimetype": "text/x-python",
      "name": "python",
      "nbconvert_exporter": "python",
      "pygments_lexer": "ipython3",
      "version": "3.11.3"
    },
    "orig_nbformat": 4,
    "colab": {
      "provenance": []
    }
  },
  "nbformat": 4,
  "nbformat_minor": 0
}